{
 "cells": [
  {
   "cell_type": "markdown",
   "metadata": {},
   "source": [
    "# Lab 4 - Internal Representation of Numbers & its Effects on Algorithms\n",
    "-------------------\n",
    "# Contents\n",
    "- Introduction to numerical representation\n",
    "    - Integers - signed, unsigned\n",
    "    - Floating-points - 32-bit, 64-bit\n",
    "- Floating point (FP) arithmetic - issues and limitations\n",
    "    - Representation error\n",
    "    - Aliasing error\n",
    "    - Type casting error\n",
    "    - Overflow error\n",
    "    - Roundoff error\n",
    "- Effects of FP datatypes on 2D convolution results\n",
    "    - Run-time\n",
    "    - Memory usage over time\n",
    "    - Precision of result\n",
    "------------------"
   ]
  },
  {
   "cell_type": "markdown",
   "metadata": {},
   "source": [
    "In this tutorial, we will look at how different datatypes can have an impact on the computation efficiency in terms of both time and memory. Furthermore, we will see what's the cost we pay for speed/memory improvements by actively managing datatypes with numpy."
   ]
  },
  {
   "cell_type": "markdown",
   "metadata": {},
   "source": [
    "In Python, data is stored in memory in the form of binary bits. Interestingly, the same set of bits can mean different values when interpreted as different data types. Being a high-level programming language, Python keeps these tedious calculations behind the curtain most of the time. However, datatype is still an important aspect when it comes to numerical calculations.\n",
    "\n",
    "### Integers\n",
    "\n",
    "**10110101**\n",
    "\n",
    "Unsigned integer: 181\n",
    "\n",
    "Signed integer: -75"
   ]
  },
  {
   "cell_type": "code",
   "execution_count": 1,
   "metadata": {},
   "outputs": [
    {
     "name": "stdout",
     "output_type": "stream",
     "text": [
      "decimal:  181\n"
     ]
    }
   ],
   "source": [
    "bit_string = \"10110101\"\n",
    "x = int(bit_string, 2)\n",
    "print(\"decimal: \", x)"
   ]
  },
  {
   "cell_type": "code",
   "execution_count": 2,
   "metadata": {},
   "outputs": [
    {
     "data": {
      "text/plain": [
       "181"
      ]
     },
     "execution_count": 2,
     "metadata": {},
     "output_type": "execute_result"
    }
   ],
   "source": [
    "(2**7) + (2**5) + (2**4) + (2**2) + (2**0)"
   ]
  },
  {
   "cell_type": "code",
   "execution_count": 8,
   "metadata": {},
   "outputs": [
    {
     "name": "stdout",
     "output_type": "stream",
     "text": [
      "unsigned:  181\n"
     ]
    }
   ],
   "source": [
    "import numpy as np\n",
    "unsigned_int = np.uint8(x) # unsigned\n",
    "print(\"unsigned: \", unsigned_int)"
   ]
  },
  {
   "cell_type": "code",
   "execution_count": 9,
   "metadata": {},
   "outputs": [
    {
     "ename": "OverflowError",
     "evalue": "Python integer 181 out of bounds for int8",
     "output_type": "error",
     "traceback": [
      "\u001b[0;31m---------------------------------------------------------------------------\u001b[0m",
      "\u001b[0;31mOverflowError\u001b[0m                             Traceback (most recent call last)",
      "Cell \u001b[0;32mIn[9], line 2\u001b[0m\n\u001b[1;32m      1\u001b[0m \u001b[38;5;28;01mimport\u001b[39;00m \u001b[38;5;21;01mnumpy\u001b[39;00m \u001b[38;5;28;01mas\u001b[39;00m \u001b[38;5;21;01mnp\u001b[39;00m\n\u001b[0;32m----> 2\u001b[0m signed_int \u001b[38;5;241m=\u001b[39m \u001b[43mnp\u001b[49m\u001b[38;5;241;43m.\u001b[39;49m\u001b[43mint8\u001b[49m\u001b[43m(\u001b[49m\u001b[43mx\u001b[49m\u001b[43m)\u001b[49m \u001b[38;5;66;03m# signed\u001b[39;00m\n\u001b[1;32m      3\u001b[0m \u001b[38;5;28mprint\u001b[39m(\u001b[38;5;124m\"\u001b[39m\u001b[38;5;124msigned: \u001b[39m\u001b[38;5;124m\"\u001b[39m, signed_int)\n",
      "\u001b[0;31mOverflowError\u001b[0m: Python integer 181 out of bounds for int8"
     ]
    }
   ],
   "source": [
    "import numpy as np\n",
    "signed_int = np.int8(x) # signed\n",
    "print(\"signed: \", signed_int)"
   ]
  },
  {
   "cell_type": "markdown",
   "metadata": {},
   "source": [
    "### Why?\n",
    "np.int8 has range from -128 to +127, so 181 is out of range"
   ]
  },
  {
   "cell_type": "markdown",
   "metadata": {},
   "source": [
    "Read more - https://cheever.domains.swarthmore.edu/Ref/BinaryMath/NumSys.html"
   ]
  },
  {
   "cell_type": "markdown",
   "metadata": {},
   "source": [
    "### Floating points\n",
    "\n",
    "![](fp_representation.jpg)\n",
    "\n",
    "IEEE-754 converter: [https://www.h-schmidt.net/FloatConverter/IEEE754.html](https://www.h-schmidt.net/FloatConverter/IEEE754.html)\n",
    "\n",
    "Watch [this video](https://www.youtube.com/watch?v=RuKkePyo9zk) (21:34) to see how \"decimal points\" work in computer memory.\n",
    "\n",
    "Numpy's floating point datatypes comforms to IEEE-754 floating point standard, and match the underlying C language data types:\n",
    "\n",
    "|Numpy Type | C Type|\n",
    "|---|----|\n",
    "|np.float32 |\tfloat|\n",
    "|np.float64 |\tdouble|\n",
    "|np.float96 |\tlong double|\n",
    "|np.float128 | long double|"
   ]
  },
  {
   "cell_type": "markdown",
   "metadata": {},
   "source": [
    "**[Exercise] What's an advantage of using a 64-bit float as compared to 32-bit? What's an disadvantage?**"
   ]
  },
  {
   "cell_type": "markdown",
   "metadata": {},
   "source": [
    "Read about [extended precision floating point types in Numpy](https://numpy.org/devdocs/user/basics.types.html#extended-precision)"
   ]
  },
  {
   "cell_type": "markdown",
   "metadata": {},
   "source": [
    "*Your answer:*\n",
    "\n",
    "Advantage: Higher precision\n",
    "\n",
    "\n",
    "Disadvantage: More space needed"
   ]
  },
  {
   "cell_type": "markdown",
   "metadata": {},
   "source": [
    "### Representation error"
   ]
  },
  {
   "cell_type": "markdown",
   "metadata": {},
   "source": [
    "Representation error refers to the fact that some (most, actually) decimal fractions cannot be represented exactly as binary (base 2) fractions."
   ]
  },
  {
   "cell_type": "code",
   "execution_count": 10,
   "metadata": {},
   "outputs": [
    {
     "data": {
      "text/plain": [
       "False"
      ]
     },
     "execution_count": 10,
     "metadata": {},
     "output_type": "execute_result"
    }
   ],
   "source": [
    ".1 + .1 + .1 == .3"
   ]
  },
  {
   "cell_type": "markdown",
   "metadata": {},
   "source": [
    "Why is that? 1/10 is not exactly representable as a binary fraction. Almost all platforms map Python floats to IEEE-754 “double precision”. **754 doubles contain 53 bits of precision, so the computer strives to convert 0.1 to the closest fraction it can of the form J / 2\\*\\*N where J is an integer containing exactly 53 bits.**"
   ]
  },
  {
   "cell_type": "markdown",
   "metadata": {},
   "source": [
    "i.e. 1/10 ~= J / 2\\*\\*N.\n",
    "\n",
    "Let's try to find J and N on our own."
   ]
  },
  {
   "cell_type": "code",
   "execution_count": 11,
   "metadata": {},
   "outputs": [
    {
     "data": {
      "text/plain": [
       "True"
      ]
     },
     "execution_count": 11,
     "metadata": {},
     "output_type": "execute_result"
    }
   ],
   "source": [
    "N = 56\n",
    "\n",
    "2**52 <=  2**N // 10  < 2**53"
   ]
  },
  {
   "cell_type": "markdown",
   "metadata": {},
   "source": [
    "That is, 56 is the only value for N that leaves J with exactly 53 bits. The best possible value for J is then that quotient rounded:"
   ]
  },
  {
   "cell_type": "code",
   "execution_count": 12,
   "metadata": {},
   "outputs": [
    {
     "name": "stdout",
     "output_type": "stream",
     "text": [
      "7205759403792793\n",
      "6\n"
     ]
    }
   ],
   "source": [
    "q, r = divmod(2**56, 10)\n",
    "print(q)\n",
    "print(r)"
   ]
  },
  {
   "cell_type": "markdown",
   "metadata": {},
   "source": [
    "Since remainder is closer to 10, round up q by 1."
   ]
  },
  {
   "cell_type": "code",
   "execution_count": 13,
   "metadata": {},
   "outputs": [
    {
     "data": {
      "text/plain": [
       "7205759403792794"
      ]
     },
     "execution_count": 13,
     "metadata": {},
     "output_type": "execute_result"
    }
   ],
   "source": [
    "J = q + 1\n",
    "J"
   ]
  },
  {
   "cell_type": "code",
   "execution_count": 14,
   "metadata": {},
   "outputs": [
    {
     "data": {
      "text/plain": [
       "72057594037927936"
      ]
     },
     "execution_count": 14,
     "metadata": {},
     "output_type": "execute_result"
    }
   ],
   "source": [
    "two_power_N = 2 ** 56\n",
    "two_power_N"
   ]
  },
  {
   "cell_type": "markdown",
   "metadata": {},
   "source": [
    "Therefore best possible approximation of 1/10 is:"
   ]
  },
  {
   "cell_type": "code",
   "execution_count": 15,
   "metadata": {},
   "outputs": [
    {
     "data": {
      "text/plain": [
       "'0.1000000000000000055511151231257827021181583404541015625'"
      ]
     },
     "execution_count": 15,
     "metadata": {},
     "output_type": "execute_result"
    }
   ],
   "source": [
    "format(J / two_power_N, '.55f')"
   ]
  },
  {
   "cell_type": "markdown",
   "metadata": {},
   "source": [
    "This is exactly the decimal value that is being represented internally. Let's confirm our calculation:"
   ]
  },
  {
   "cell_type": "code",
   "execution_count": 16,
   "metadata": {},
   "outputs": [
    {
     "data": {
      "text/plain": [
       "Decimal('0.1000000000000000055511151231257827021181583404541015625')"
      ]
     },
     "execution_count": 16,
     "metadata": {},
     "output_type": "execute_result"
    }
   ],
   "source": [
    "from decimal import Decimal\n",
    "Decimal.from_float(0.1)"
   ]
  },
  {
   "cell_type": "code",
   "execution_count": 17,
   "metadata": {},
   "outputs": [
    {
     "name": "stdout",
     "output_type": "stream",
     "text": [
      "11001100110011001100110011001100110011001100110011010\n"
     ]
    },
    {
     "data": {
      "text/plain": [
       "53"
      ]
     },
     "execution_count": 17,
     "metadata": {},
     "output_type": "execute_result"
    }
   ],
   "source": [
    "bin_str = \"{0:b}\".format(7205759403792794) # J\n",
    "print (bin_str)\n",
    "len(bin_str)"
   ]
  },
  {
   "cell_type": "markdown",
   "metadata": {},
   "source": [
    "We can get `J` and `two_power_N` more easily:"
   ]
  },
  {
   "cell_type": "code",
   "execution_count": 18,
   "metadata": {},
   "outputs": [
    {
     "name": "stdout",
     "output_type": "stream",
     "text": [
      "3602879701896397/36028797018963968\n",
      "(3602879701896397, 36028797018963968)\n"
     ]
    }
   ],
   "source": [
    "from fractions import Fraction\n",
    "\n",
    "print(Fraction.from_float(0.1))\n",
    "print((0.1).as_integer_ratio())\n",
    "\n",
    "# 7205759403792794 / 2 ** 56 --> divide by 2 --> 3602879701896397 / 2 ** 55"
   ]
  },
  {
   "cell_type": "markdown",
   "metadata": {},
   "source": [
    "These are the same `J` (numerator) and `two_power_N` (denominator) values we found before, but both divided by 2."
   ]
  },
  {
   "cell_type": "markdown",
   "metadata": {},
   "source": [
    "### [Exercise] What integer fraction does 3.14159 actually equal to?"
   ]
  },
  {
   "cell_type": "code",
   "execution_count": 19,
   "metadata": {},
   "outputs": [],
   "source": [
    "x = 3.14159"
   ]
  },
  {
   "cell_type": "code",
   "execution_count": 21,
   "metadata": {},
   "outputs": [
    {
     "name": "stdout",
     "output_type": "stream",
     "text": [
      "3537115888337719/1125899906842624\n",
      "(3602879701896397, 36028797018963968)\n"
     ]
    }
   ],
   "source": [
    "# assert x == ??? / ???\n",
    "from fractions import Fraction\n",
    "\n",
    "print(Fraction.from_float(3.14159))\n",
    "print((0.1).as_integer_ratio())"
   ]
  },
  {
   "cell_type": "markdown",
   "metadata": {},
   "source": [
    "### Aliasing errors"
   ]
  },
  {
   "cell_type": "code",
   "execution_count": 22,
   "metadata": {},
   "outputs": [
    {
     "name": "stdout",
     "output_type": "stream",
     "text": [
      "float32\n"
     ]
    },
    {
     "data": {
      "text/plain": [
       "'0.1000000014901161193847656250000000000000000000000000000'"
      ]
     },
     "execution_count": 22,
     "metadata": {},
     "output_type": "execute_result"
    }
   ],
   "source": [
    "import numpy as np\n",
    "val = np.float32(0.1)\n",
    "print(val.dtype)\n",
    "format(val, '.55f')"
   ]
  },
  {
   "cell_type": "code",
   "execution_count": 23,
   "metadata": {},
   "outputs": [
    {
     "data": {
      "text/plain": [
       "'0.1000000014901161193847656250000000000000000000000000000'"
      ]
     },
     "execution_count": 23,
     "metadata": {},
     "output_type": "execute_result"
    }
   ],
   "source": [
    "format(np.float64(val), '.55f')"
   ]
  },
  {
   "cell_type": "markdown",
   "metadata": {},
   "source": [
    "We expect the representational error of a double to be smaller than that of a float. However, casting the float to a double has the effect of persisting the representational error of the float since enough 0’s are added to the right of the significand value to pad out the significand of a double."
   ]
  },
  {
   "cell_type": "code",
   "execution_count": 24,
   "metadata": {},
   "outputs": [
    {
     "name": "stdout",
     "output_type": "stream",
     "text": [
      "00111101110011001100110011001101\n",
      "00000000000000000000000000000001\n"
     ]
    }
   ],
   "source": [
    "## tiny numbers\n",
    "import struct\n",
    "\n",
    "def float_to_binary(number):\n",
    "    return format(struct.unpack('!I', struct.pack('!f', number))[0], '032b')\n",
    "\n",
    "print(float_to_binary(0.1))\n",
    "\n",
    "tiny_number = 1.4013e-45  # This is close to the smallest representable positive number in single-precision.\n",
    "print(float_to_binary(tiny_number))\n"
   ]
  },
  {
   "cell_type": "markdown",
   "metadata": {},
   "source": [
    "### Type casting errors"
   ]
  },
  {
   "cell_type": "code",
   "execution_count": 25,
   "metadata": {},
   "outputs": [
    {
     "name": "stdout",
     "output_type": "stream",
     "text": [
      "[ 3.2  -1.    6.8  10.12] float64\n"
     ]
    }
   ],
   "source": [
    "arr = np.array([3.2, -1.0, 6.8, 10.12])\n",
    "print(arr, arr.dtype)"
   ]
  },
  {
   "cell_type": "code",
   "execution_count": 26,
   "metadata": {},
   "outputs": [
    {
     "data": {
      "text/plain": [
       "array([ 3, -1,  6, 10], dtype=int32)"
      ]
     },
     "execution_count": 26,
     "metadata": {},
     "output_type": "execute_result"
    }
   ],
   "source": [
    "arr.astype(np.int32)"
   ]
  },
  {
   "cell_type": "markdown",
   "metadata": {},
   "source": [
    "### Overflow error"
   ]
  },
  {
   "cell_type": "code",
   "execution_count": 27,
   "metadata": {},
   "outputs": [
    {
     "data": {
      "text/plain": [
       "np.int64(10000000000000000)"
      ]
     },
     "execution_count": 27,
     "metadata": {},
     "output_type": "execute_result"
    }
   ],
   "source": [
    "np.power(100, 8, dtype=np.int64)"
   ]
  },
  {
   "cell_type": "code",
   "execution_count": 28,
   "metadata": {},
   "outputs": [
    {
     "data": {
      "text/plain": [
       "np.int32(1874919424)"
      ]
     },
     "execution_count": 28,
     "metadata": {},
     "output_type": "execute_result"
    }
   ],
   "source": [
    "np.power(100, 8, dtype=np.int32)"
   ]
  },
  {
   "cell_type": "code",
   "execution_count": 29,
   "metadata": {},
   "outputs": [
    {
     "name": "stdout",
     "output_type": "stream",
     "text": [
      "Iteration 1: 2.0\n",
      "Iteration 2: 4.0\n",
      "Iteration 3: 8.0\n",
      "Iteration 4: 16.0\n",
      "Iteration 5: 32.0\n",
      "Iteration 6: 64.0\n",
      "Iteration 7: 128.0\n",
      "Iteration 8: 256.0\n",
      "Iteration 9: 512.0\n",
      "Iteration 10: 1024.0\n",
      "Iteration 11: 2048.0\n",
      "Iteration 12: 4096.0\n",
      "Iteration 13: 8192.0\n",
      "Iteration 14: 16384.0\n",
      "Iteration 15: 32768.0\n",
      "Iteration 16: 65536.0\n",
      "Iteration 17: 131072.0\n",
      "Iteration 18: 262144.0\n",
      "Iteration 19: 524288.0\n",
      "Iteration 20: 1048576.0\n",
      "Iteration 21: 2097152.0\n",
      "Iteration 22: 4194304.0\n",
      "Iteration 23: 8388608.0\n",
      "Iteration 24: 16777216.0\n",
      "Iteration 25: 33554432.0\n",
      "Iteration 26: 67108864.0\n",
      "Iteration 27: 134217728.0\n",
      "Iteration 28: 268435456.0\n",
      "Iteration 29: 536870912.0\n",
      "Iteration 30: 1073741824.0\n",
      "Iteration 31: 2147483648.0\n",
      "Iteration 32: 4294967296.0\n",
      "Iteration 33: 8589934592.0\n",
      "Iteration 34: 17179869184.0\n",
      "Iteration 35: 34359738368.0\n",
      "Iteration 36: 68719476736.0\n",
      "Iteration 37: 137438953472.0\n",
      "Iteration 38: 274877906944.0\n",
      "Iteration 39: 549755813888.0\n",
      "Iteration 40: 1099511627776.0\n",
      "Iteration 41: 2199023255552.0\n",
      "Iteration 42: 4398046511104.0\n",
      "Iteration 43: 8796093022208.0\n",
      "Iteration 44: 17592186044416.0\n",
      "Iteration 45: 35184372088832.0\n",
      "Iteration 46: 70368744177664.0\n",
      "Iteration 47: 140737488355328.0\n",
      "Iteration 48: 281474976710656.0\n",
      "Iteration 49: 562949953421312.0\n",
      "Iteration 50: 1125899906842624.0\n",
      "Iteration 51: 2251799813685248.0\n",
      "Iteration 52: 4503599627370496.0\n",
      "Iteration 53: 9007199254740992.0\n",
      "Iteration 54: 1.8014398509481984e+16\n",
      "Iteration 55: 3.602879701896397e+16\n",
      "Iteration 56: 7.205759403792794e+16\n",
      "Iteration 57: 1.4411518807585587e+17\n",
      "Iteration 58: 2.8823037615171174e+17\n",
      "Iteration 59: 5.764607523034235e+17\n",
      "Iteration 60: 1.152921504606847e+18\n",
      "Iteration 61: 2.305843009213694e+18\n",
      "Iteration 62: 4.611686018427388e+18\n",
      "Iteration 63: 9.223372036854776e+18\n",
      "Iteration 64: 1.8446744073709552e+19\n",
      "Iteration 65: 3.6893488147419103e+19\n",
      "Iteration 66: 7.378697629483821e+19\n",
      "Iteration 67: 1.4757395258967641e+20\n",
      "Iteration 68: 2.9514790517935283e+20\n",
      "Iteration 69: 5.902958103587057e+20\n",
      "Iteration 70: 1.1805916207174113e+21\n",
      "Iteration 71: 2.3611832414348226e+21\n",
      "Iteration 72: 4.722366482869645e+21\n",
      "Iteration 73: 9.44473296573929e+21\n",
      "Iteration 74: 1.888946593147858e+22\n",
      "Iteration 75: 3.777893186295716e+22\n",
      "Iteration 76: 7.555786372591432e+22\n",
      "Iteration 77: 1.5111572745182865e+23\n",
      "Iteration 78: 3.022314549036573e+23\n",
      "Iteration 79: 6.044629098073146e+23\n",
      "Iteration 80: 1.2089258196146292e+24\n",
      "Iteration 81: 2.4178516392292583e+24\n",
      "Iteration 82: 4.835703278458517e+24\n",
      "Iteration 83: 9.671406556917033e+24\n",
      "Iteration 84: 1.9342813113834067e+25\n",
      "Iteration 85: 3.8685626227668134e+25\n",
      "Iteration 86: 7.737125245533627e+25\n",
      "Iteration 87: 1.5474250491067253e+26\n",
      "Iteration 88: 3.094850098213451e+26\n",
      "Iteration 89: 6.189700196426902e+26\n",
      "Iteration 90: 1.2379400392853803e+27\n",
      "Iteration 91: 2.4758800785707605e+27\n",
      "Iteration 92: 4.951760157141521e+27\n",
      "Iteration 93: 9.903520314283042e+27\n",
      "Iteration 94: 1.9807040628566084e+28\n",
      "Iteration 95: 3.961408125713217e+28\n",
      "Iteration 96: 7.922816251426434e+28\n",
      "Iteration 97: 1.5845632502852868e+29\n",
      "Iteration 98: 3.1691265005705735e+29\n",
      "Iteration 99: 6.338253001141147e+29\n",
      "Iteration 100: 1.2676506002282294e+30\n",
      "Iteration 101: 2.535301200456459e+30\n",
      "Iteration 102: 5.070602400912918e+30\n",
      "Iteration 103: 1.0141204801825835e+31\n",
      "Iteration 104: 2.028240960365167e+31\n",
      "Iteration 105: 4.056481920730334e+31\n",
      "Iteration 106: 8.112963841460668e+31\n",
      "Iteration 107: 1.6225927682921336e+32\n",
      "Iteration 108: 3.2451855365842673e+32\n",
      "Iteration 109: 6.490371073168535e+32\n",
      "Iteration 110: 1.298074214633707e+33\n",
      "Iteration 111: 2.596148429267414e+33\n",
      "Iteration 112: 5.192296858534828e+33\n",
      "Iteration 113: 1.0384593717069655e+34\n",
      "Iteration 114: 2.076918743413931e+34\n",
      "Iteration 115: 4.153837486827862e+34\n",
      "Iteration 116: 8.307674973655724e+34\n",
      "Iteration 117: 1.661534994731145e+35\n",
      "Iteration 118: 3.32306998946229e+35\n",
      "Iteration 119: 6.64613997892458e+35\n",
      "Iteration 120: 1.329227995784916e+36\n",
      "Iteration 121: 2.658455991569832e+36\n",
      "Iteration 122: 5.316911983139664e+36\n",
      "Iteration 123: 1.0633823966279327e+37\n",
      "Iteration 124: 2.1267647932558654e+37\n",
      "Iteration 125: 4.253529586511731e+37\n",
      "Iteration 126: 8.507059173023462e+37\n",
      "Iteration 127: 1.7014118346046923e+38\n",
      "Iteration 128: 3.402823669209385e+38\n",
      "Iteration 129: 6.80564733841877e+38\n",
      "Iteration 130: 1.361129467683754e+39\n",
      "Iteration 131: 2.722258935367508e+39\n",
      "Iteration 132: 5.444517870735016e+39\n",
      "Iteration 133: 1.0889035741470031e+40\n",
      "Iteration 134: 2.1778071482940062e+40\n",
      "Iteration 135: 4.3556142965880123e+40\n",
      "Iteration 136: 8.711228593176025e+40\n",
      "Iteration 137: 1.742245718635205e+41\n",
      "Iteration 138: 3.48449143727041e+41\n",
      "Iteration 139: 6.96898287454082e+41\n",
      "Iteration 140: 1.393796574908164e+42\n",
      "Iteration 141: 2.787593149816328e+42\n",
      "Iteration 142: 5.575186299632656e+42\n",
      "Iteration 143: 1.1150372599265312e+43\n",
      "Iteration 144: 2.2300745198530623e+43\n",
      "Iteration 145: 4.460149039706125e+43\n",
      "Iteration 146: 8.92029807941225e+43\n",
      "Iteration 147: 1.78405961588245e+44\n",
      "Iteration 148: 3.5681192317649e+44\n",
      "Iteration 149: 7.1362384635298e+44\n",
      "Iteration 150: 1.42724769270596e+45\n",
      "Iteration 151: 2.85449538541192e+45\n",
      "Iteration 152: 5.70899077082384e+45\n",
      "Iteration 153: 1.141798154164768e+46\n",
      "Iteration 154: 2.283596308329536e+46\n",
      "Iteration 155: 4.567192616659072e+46\n",
      "Iteration 156: 9.134385233318143e+46\n",
      "Iteration 157: 1.8268770466636286e+47\n",
      "Iteration 158: 3.6537540933272573e+47\n",
      "Iteration 159: 7.307508186654515e+47\n",
      "Iteration 160: 1.461501637330903e+48\n",
      "Iteration 161: 2.923003274661806e+48\n",
      "Iteration 162: 5.846006549323612e+48\n",
      "Iteration 163: 1.1692013098647223e+49\n",
      "Iteration 164: 2.3384026197294447e+49\n",
      "Iteration 165: 4.6768052394588893e+49\n",
      "Iteration 166: 9.353610478917779e+49\n",
      "Iteration 167: 1.8707220957835557e+50\n",
      "Iteration 168: 3.7414441915671115e+50\n",
      "Iteration 169: 7.482888383134223e+50\n",
      "Iteration 170: 1.4965776766268446e+51\n",
      "Iteration 171: 2.9931553532536892e+51\n",
      "Iteration 172: 5.986310706507379e+51\n",
      "Iteration 173: 1.1972621413014757e+52\n",
      "Iteration 174: 2.3945242826029513e+52\n",
      "Iteration 175: 4.789048565205903e+52\n",
      "Iteration 176: 9.578097130411805e+52\n",
      "Iteration 177: 1.915619426082361e+53\n",
      "Iteration 178: 3.831238852164722e+53\n",
      "Iteration 179: 7.662477704329444e+53\n",
      "Iteration 180: 1.532495540865889e+54\n",
      "Iteration 181: 3.064991081731778e+54\n",
      "Iteration 182: 6.129982163463556e+54\n",
      "Iteration 183: 1.2259964326927111e+55\n",
      "Iteration 184: 2.4519928653854222e+55\n",
      "Iteration 185: 4.9039857307708443e+55\n",
      "Iteration 186: 9.807971461541689e+55\n",
      "Iteration 187: 1.9615942923083377e+56\n",
      "Iteration 188: 3.9231885846166755e+56\n",
      "Iteration 189: 7.846377169233351e+56\n",
      "Iteration 190: 1.5692754338466702e+57\n",
      "Iteration 191: 3.1385508676933404e+57\n",
      "Iteration 192: 6.277101735386681e+57\n",
      "Iteration 193: 1.2554203470773362e+58\n",
      "Iteration 194: 2.5108406941546723e+58\n",
      "Iteration 195: 5.021681388309345e+58\n",
      "Iteration 196: 1.004336277661869e+59\n",
      "Iteration 197: 2.008672555323738e+59\n",
      "Iteration 198: 4.017345110647476e+59\n",
      "Iteration 199: 8.034690221294951e+59\n",
      "Iteration 200: 1.6069380442589903e+60\n",
      "Iteration 201: 3.2138760885179806e+60\n",
      "Iteration 202: 6.427752177035961e+60\n",
      "Iteration 203: 1.2855504354071922e+61\n",
      "Iteration 204: 2.5711008708143844e+61\n",
      "Iteration 205: 5.142201741628769e+61\n",
      "Iteration 206: 1.0284403483257538e+62\n",
      "Iteration 207: 2.0568806966515076e+62\n",
      "Iteration 208: 4.113761393303015e+62\n",
      "Iteration 209: 8.22752278660603e+62\n",
      "Iteration 210: 1.645504557321206e+63\n",
      "Iteration 211: 3.291009114642412e+63\n",
      "Iteration 212: 6.582018229284824e+63\n",
      "Iteration 213: 1.3164036458569648e+64\n",
      "Iteration 214: 2.6328072917139297e+64\n",
      "Iteration 215: 5.2656145834278593e+64\n",
      "Iteration 216: 1.0531229166855719e+65\n",
      "Iteration 217: 2.1062458333711437e+65\n",
      "Iteration 218: 4.2124916667422875e+65\n",
      "Iteration 219: 8.424983333484575e+65\n",
      "Iteration 220: 1.684996666696915e+66\n",
      "Iteration 221: 3.36999333339383e+66\n",
      "Iteration 222: 6.73998666678766e+66\n",
      "Iteration 223: 1.347997333357532e+67\n",
      "Iteration 224: 2.695994666715064e+67\n",
      "Iteration 225: 5.391989333430128e+67\n",
      "Iteration 226: 1.0783978666860256e+68\n",
      "Iteration 227: 2.1567957333720512e+68\n",
      "Iteration 228: 4.3135914667441024e+68\n",
      "Iteration 229: 8.627182933488205e+68\n",
      "Iteration 230: 1.725436586697641e+69\n",
      "Iteration 231: 3.450873173395282e+69\n",
      "Iteration 232: 6.901746346790564e+69\n",
      "Iteration 233: 1.3803492693581128e+70\n",
      "Iteration 234: 2.7606985387162255e+70\n",
      "Iteration 235: 5.521397077432451e+70\n",
      "Iteration 236: 1.1042794154864902e+71\n",
      "Iteration 237: 2.2085588309729804e+71\n",
      "Iteration 238: 4.417117661945961e+71\n",
      "Iteration 239: 8.834235323891922e+71\n",
      "Iteration 240: 1.7668470647783843e+72\n",
      "Iteration 241: 3.533694129556769e+72\n",
      "Iteration 242: 7.067388259113537e+72\n",
      "Iteration 243: 1.4134776518227075e+73\n",
      "Iteration 244: 2.826955303645415e+73\n",
      "Iteration 245: 5.65391060729083e+73\n",
      "Iteration 246: 1.130782121458166e+74\n",
      "Iteration 247: 2.261564242916332e+74\n",
      "Iteration 248: 4.523128485832664e+74\n",
      "Iteration 249: 9.046256971665328e+74\n",
      "Iteration 250: 1.8092513943330656e+75\n",
      "Iteration 251: 3.618502788666131e+75\n",
      "Iteration 252: 7.237005577332262e+75\n",
      "Iteration 253: 1.4474011154664524e+76\n",
      "Iteration 254: 2.894802230932905e+76\n",
      "Iteration 255: 5.78960446186581e+76\n",
      "Iteration 256: 1.157920892373162e+77\n",
      "Iteration 257: 2.315841784746324e+77\n",
      "Iteration 258: 4.631683569492648e+77\n",
      "Iteration 259: 9.263367138985296e+77\n",
      "Iteration 260: 1.8526734277970591e+78\n",
      "Iteration 261: 3.7053468555941183e+78\n",
      "Iteration 262: 7.410693711188237e+78\n",
      "Iteration 263: 1.4821387422376473e+79\n",
      "Iteration 264: 2.9642774844752946e+79\n",
      "Iteration 265: 5.928554968950589e+79\n",
      "Iteration 266: 1.1857109937901178e+80\n",
      "Iteration 267: 2.3714219875802357e+80\n",
      "Iteration 268: 4.7428439751604714e+80\n",
      "Iteration 269: 9.485687950320943e+80\n",
      "Iteration 270: 1.8971375900641885e+81\n",
      "Iteration 271: 3.794275180128377e+81\n",
      "Iteration 272: 7.588550360256754e+81\n",
      "Iteration 273: 1.517710072051351e+82\n",
      "Iteration 274: 3.035420144102702e+82\n",
      "Iteration 275: 6.070840288205404e+82\n",
      "Iteration 276: 1.2141680576410807e+83\n",
      "Iteration 277: 2.4283361152821613e+83\n",
      "Iteration 278: 4.856672230564323e+83\n",
      "Iteration 279: 9.713344461128645e+83\n",
      "Iteration 280: 1.942668892225729e+84\n",
      "Iteration 281: 3.885337784451458e+84\n",
      "Iteration 282: 7.770675568902916e+84\n",
      "Iteration 283: 1.5541351137805833e+85\n",
      "Iteration 284: 3.1082702275611665e+85\n",
      "Iteration 285: 6.216540455122333e+85\n",
      "Iteration 286: 1.2433080910244666e+86\n",
      "Iteration 287: 2.4866161820489332e+86\n",
      "Iteration 288: 4.9732323640978664e+86\n",
      "Iteration 289: 9.946464728195733e+86\n",
      "Iteration 290: 1.9892929456391466e+87\n",
      "Iteration 291: 3.978585891278293e+87\n",
      "Iteration 292: 7.957171782556586e+87\n",
      "Iteration 293: 1.5914343565113173e+88\n",
      "Iteration 294: 3.1828687130226345e+88\n",
      "Iteration 295: 6.365737426045269e+88\n",
      "Iteration 296: 1.2731474852090538e+89\n",
      "Iteration 297: 2.5462949704181076e+89\n",
      "Iteration 298: 5.092589940836215e+89\n",
      "Iteration 299: 1.018517988167243e+90\n",
      "Iteration 300: 2.037035976334486e+90\n",
      "Iteration 301: 4.074071952668972e+90\n",
      "Iteration 302: 8.148143905337944e+90\n",
      "Iteration 303: 1.629628781067589e+91\n",
      "Iteration 304: 3.259257562135178e+91\n",
      "Iteration 305: 6.518515124270356e+91\n",
      "Iteration 306: 1.3037030248540711e+92\n",
      "Iteration 307: 2.6074060497081422e+92\n",
      "Iteration 308: 5.2148120994162844e+92\n",
      "Iteration 309: 1.0429624198832569e+93\n",
      "Iteration 310: 2.0859248397665138e+93\n",
      "Iteration 311: 4.1718496795330275e+93\n",
      "Iteration 312: 8.343699359066055e+93\n",
      "Iteration 313: 1.668739871813211e+94\n",
      "Iteration 314: 3.337479743626422e+94\n",
      "Iteration 315: 6.674959487252844e+94\n",
      "Iteration 316: 1.3349918974505688e+95\n",
      "Iteration 317: 2.6699837949011376e+95\n",
      "Iteration 318: 5.339967589802275e+95\n",
      "Iteration 319: 1.067993517960455e+96\n",
      "Iteration 320: 2.13598703592091e+96\n",
      "Iteration 321: 4.27197407184182e+96\n",
      "Iteration 322: 8.54394814368364e+96\n",
      "Iteration 323: 1.708789628736728e+97\n",
      "Iteration 324: 3.417579257473456e+97\n",
      "Iteration 325: 6.835158514946912e+97\n",
      "Iteration 326: 1.3670317029893825e+98\n",
      "Iteration 327: 2.734063405978765e+98\n",
      "Iteration 328: 5.46812681195753e+98\n",
      "Iteration 329: 1.093625362391506e+99\n",
      "Iteration 330: 2.187250724783012e+99\n",
      "Iteration 331: 4.374501449566024e+99\n",
      "Iteration 332: 8.749002899132048e+99\n",
      "Iteration 333: 1.7498005798264095e+100\n",
      "Iteration 334: 3.499601159652819e+100\n",
      "Iteration 335: 6.999202319305638e+100\n",
      "Iteration 336: 1.3998404638611276e+101\n",
      "Iteration 337: 2.7996809277222553e+101\n",
      "Iteration 338: 5.599361855444511e+101\n",
      "Iteration 339: 1.1198723710889021e+102\n",
      "Iteration 340: 2.2397447421778042e+102\n",
      "Iteration 341: 4.4794894843556084e+102\n",
      "Iteration 342: 8.958978968711217e+102\n",
      "Iteration 343: 1.7917957937422434e+103\n",
      "Iteration 344: 3.583591587484487e+103\n",
      "Iteration 345: 7.167183174968974e+103\n",
      "Iteration 346: 1.4334366349937947e+104\n",
      "Iteration 347: 2.8668732699875894e+104\n",
      "Iteration 348: 5.733746539975179e+104\n",
      "Iteration 349: 1.1467493079950358e+105\n",
      "Iteration 350: 2.2934986159900715e+105\n",
      "Iteration 351: 4.586997231980143e+105\n",
      "Iteration 352: 9.173994463960286e+105\n",
      "Iteration 353: 1.8347988927920572e+106\n",
      "Iteration 354: 3.6695977855841144e+106\n",
      "Iteration 355: 7.339195571168229e+106\n",
      "Iteration 356: 1.4678391142336458e+107\n",
      "Iteration 357: 2.9356782284672915e+107\n",
      "Iteration 358: 5.871356456934583e+107\n",
      "Iteration 359: 1.1742712913869166e+108\n",
      "Iteration 360: 2.3485425827738332e+108\n",
      "Iteration 361: 4.6970851655476665e+108\n",
      "Iteration 362: 9.394170331095333e+108\n",
      "Iteration 363: 1.8788340662190666e+109\n",
      "Iteration 364: 3.757668132438133e+109\n",
      "Iteration 365: 7.515336264876266e+109\n",
      "Iteration 366: 1.5030672529752533e+110\n",
      "Iteration 367: 3.0061345059505065e+110\n",
      "Iteration 368: 6.012269011901013e+110\n",
      "Iteration 369: 1.2024538023802026e+111\n",
      "Iteration 370: 2.4049076047604052e+111\n",
      "Iteration 371: 4.8098152095208105e+111\n",
      "Iteration 372: 9.619630419041621e+111\n",
      "Iteration 373: 1.9239260838083242e+112\n",
      "Iteration 374: 3.8478521676166484e+112\n",
      "Iteration 375: 7.695704335233297e+112\n",
      "Iteration 376: 1.5391408670466593e+113\n",
      "Iteration 377: 3.078281734093319e+113\n",
      "Iteration 378: 6.156563468186638e+113\n",
      "Iteration 379: 1.2313126936373275e+114\n",
      "Iteration 380: 2.462625387274655e+114\n",
      "Iteration 381: 4.92525077454931e+114\n",
      "Iteration 382: 9.85050154909862e+114\n",
      "Iteration 383: 1.970100309819724e+115\n",
      "Iteration 384: 3.940200619639448e+115\n",
      "Iteration 385: 7.880401239278896e+115\n",
      "Iteration 386: 1.5760802478557792e+116\n",
      "Iteration 387: 3.1521604957115583e+116\n",
      "Iteration 388: 6.304320991423117e+116\n",
      "Iteration 389: 1.2608641982846233e+117\n",
      "Iteration 390: 2.5217283965692467e+117\n",
      "Iteration 391: 5.0434567931384933e+117\n",
      "Iteration 392: 1.0086913586276987e+118\n",
      "Iteration 393: 2.0173827172553973e+118\n",
      "Iteration 394: 4.034765434510795e+118\n",
      "Iteration 395: 8.06953086902159e+118\n",
      "Iteration 396: 1.613906173804318e+119\n",
      "Iteration 397: 3.227812347608636e+119\n",
      "Iteration 398: 6.455624695217272e+119\n",
      "Iteration 399: 1.2911249390434543e+120\n",
      "Iteration 400: 2.5822498780869086e+120\n",
      "Iteration 401: 5.164499756173817e+120\n",
      "Iteration 402: 1.0328999512347634e+121\n",
      "Iteration 403: 2.065799902469527e+121\n",
      "Iteration 404: 4.131599804939054e+121\n",
      "Iteration 405: 8.263199609878108e+121\n",
      "Iteration 406: 1.6526399219756215e+122\n",
      "Iteration 407: 3.305279843951243e+122\n",
      "Iteration 408: 6.610559687902486e+122\n",
      "Iteration 409: 1.3221119375804972e+123\n",
      "Iteration 410: 2.6442238751609944e+123\n",
      "Iteration 411: 5.288447750321989e+123\n",
      "Iteration 412: 1.0576895500643978e+124\n",
      "Iteration 413: 2.1153791001287955e+124\n",
      "Iteration 414: 4.230758200257591e+124\n",
      "Iteration 415: 8.461516400515182e+124\n",
      "Iteration 416: 1.6923032801030364e+125\n",
      "Iteration 417: 3.384606560206073e+125\n",
      "Iteration 418: 6.769213120412146e+125\n",
      "Iteration 419: 1.3538426240824291e+126\n",
      "Iteration 420: 2.7076852481648583e+126\n",
      "Iteration 421: 5.415370496329717e+126\n",
      "Iteration 422: 1.0830740992659433e+127\n",
      "Iteration 423: 2.1661481985318866e+127\n",
      "Iteration 424: 4.332296397063773e+127\n",
      "Iteration 425: 8.664592794127546e+127\n",
      "Iteration 426: 1.7329185588255093e+128\n",
      "Iteration 427: 3.4658371176510186e+128\n",
      "Iteration 428: 6.931674235302037e+128\n",
      "Iteration 429: 1.3863348470604074e+129\n",
      "Iteration 430: 2.772669694120815e+129\n",
      "Iteration 431: 5.54533938824163e+129\n",
      "Iteration 432: 1.109067877648326e+130\n",
      "Iteration 433: 2.218135755296652e+130\n",
      "Iteration 434: 4.436271510593304e+130\n",
      "Iteration 435: 8.872543021186608e+130\n",
      "Iteration 436: 1.7745086042373215e+131\n",
      "Iteration 437: 3.549017208474643e+131\n",
      "Iteration 438: 7.098034416949286e+131\n",
      "Iteration 439: 1.4196068833898572e+132\n",
      "Iteration 440: 2.8392137667797144e+132\n",
      "Iteration 441: 5.678427533559429e+132\n",
      "Iteration 442: 1.1356855067118858e+133\n",
      "Iteration 443: 2.2713710134237715e+133\n",
      "Iteration 444: 4.542742026847543e+133\n",
      "Iteration 445: 9.085484053695086e+133\n",
      "Iteration 446: 1.8170968107390172e+134\n",
      "Iteration 447: 3.6341936214780345e+134\n",
      "Iteration 448: 7.268387242956069e+134\n",
      "Iteration 449: 1.4536774485912138e+135\n",
      "Iteration 450: 2.9073548971824276e+135\n",
      "Iteration 451: 5.814709794364855e+135\n",
      "Iteration 452: 1.162941958872971e+136\n",
      "Iteration 453: 2.325883917745942e+136\n",
      "Iteration 454: 4.651767835491884e+136\n",
      "Iteration 455: 9.303535670983768e+136\n",
      "Iteration 456: 1.8607071341967536e+137\n",
      "Iteration 457: 3.7214142683935073e+137\n",
      "Iteration 458: 7.442828536787015e+137\n",
      "Iteration 459: 1.488565707357403e+138\n",
      "Iteration 460: 2.977131414714806e+138\n",
      "Iteration 461: 5.954262829429612e+138\n",
      "Iteration 462: 1.1908525658859223e+139\n",
      "Iteration 463: 2.3817051317718447e+139\n",
      "Iteration 464: 4.7634102635436893e+139\n",
      "Iteration 465: 9.526820527087379e+139\n",
      "Iteration 466: 1.9053641054174757e+140\n",
      "Iteration 467: 3.8107282108349515e+140\n",
      "Iteration 468: 7.621456421669903e+140\n",
      "Iteration 469: 1.5242912843339806e+141\n",
      "Iteration 470: 3.048582568667961e+141\n",
      "Iteration 471: 6.097165137335922e+141\n",
      "Iteration 472: 1.2194330274671845e+142\n",
      "Iteration 473: 2.438866054934369e+142\n",
      "Iteration 474: 4.877732109868738e+142\n",
      "Iteration 475: 9.755464219737476e+142\n",
      "Iteration 476: 1.9510928439474951e+143\n",
      "Iteration 477: 3.9021856878949903e+143\n",
      "Iteration 478: 7.804371375789981e+143\n",
      "Iteration 479: 1.5608742751579961e+144\n",
      "Iteration 480: 3.1217485503159922e+144\n",
      "Iteration 481: 6.243497100631985e+144\n",
      "Iteration 482: 1.248699420126397e+145\n",
      "Iteration 483: 2.497398840252794e+145\n",
      "Iteration 484: 4.994797680505588e+145\n",
      "Iteration 485: 9.989595361011175e+145\n",
      "Iteration 486: 1.997919072202235e+146\n",
      "Iteration 487: 3.99583814440447e+146\n",
      "Iteration 488: 7.99167628880894e+146\n",
      "Iteration 489: 1.598335257761788e+147\n",
      "Iteration 490: 3.196670515523576e+147\n",
      "Iteration 491: 6.393341031047152e+147\n",
      "Iteration 492: 1.2786682062094304e+148\n",
      "Iteration 493: 2.557336412418861e+148\n",
      "Iteration 494: 5.114672824837722e+148\n",
      "Iteration 495: 1.0229345649675443e+149\n",
      "Iteration 496: 2.0458691299350887e+149\n",
      "Iteration 497: 4.0917382598701773e+149\n",
      "Iteration 498: 8.183476519740355e+149\n",
      "Iteration 499: 1.636695303948071e+150\n",
      "Iteration 500: 3.273390607896142e+150\n",
      "Iteration 501: 6.546781215792284e+150\n",
      "Iteration 502: 1.3093562431584567e+151\n",
      "Iteration 503: 2.6187124863169135e+151\n",
      "Iteration 504: 5.237424972633827e+151\n",
      "Iteration 505: 1.0474849945267654e+152\n",
      "Iteration 506: 2.094969989053531e+152\n",
      "Iteration 507: 4.189939978107062e+152\n",
      "Iteration 508: 8.379879956214123e+152\n",
      "Iteration 509: 1.6759759912428246e+153\n",
      "Iteration 510: 3.3519519824856493e+153\n",
      "Iteration 511: 6.703903964971299e+153\n",
      "Iteration 512: 1.3407807929942597e+154\n",
      "Iteration 513: 2.6815615859885194e+154\n",
      "Iteration 514: 5.363123171977039e+154\n",
      "Iteration 515: 1.0726246343954078e+155\n",
      "Iteration 516: 2.1452492687908155e+155\n",
      "Iteration 517: 4.290498537581631e+155\n",
      "Iteration 518: 8.580997075163262e+155\n",
      "Iteration 519: 1.7161994150326524e+156\n",
      "Iteration 520: 3.432398830065305e+156\n",
      "Iteration 521: 6.86479766013061e+156\n",
      "Iteration 522: 1.372959532026122e+157\n",
      "Iteration 523: 2.745919064052244e+157\n",
      "Iteration 524: 5.491838128104488e+157\n",
      "Iteration 525: 1.0983676256208976e+158\n",
      "Iteration 526: 2.196735251241795e+158\n",
      "Iteration 527: 4.39347050248359e+158\n",
      "Iteration 528: 8.78694100496718e+158\n",
      "Iteration 529: 1.757388200993436e+159\n",
      "Iteration 530: 3.514776401986872e+159\n",
      "Iteration 531: 7.029552803973744e+159\n",
      "Iteration 532: 1.405910560794749e+160\n",
      "Iteration 533: 2.811821121589498e+160\n",
      "Iteration 534: 5.623642243178996e+160\n",
      "Iteration 535: 1.1247284486357991e+161\n",
      "Iteration 536: 2.2494568972715982e+161\n",
      "Iteration 537: 4.4989137945431964e+161\n",
      "Iteration 538: 8.997827589086393e+161\n",
      "Iteration 539: 1.7995655178172786e+162\n",
      "Iteration 540: 3.599131035634557e+162\n",
      "Iteration 541: 7.198262071269114e+162\n",
      "Iteration 542: 1.439652414253823e+163\n",
      "Iteration 543: 2.879304828507646e+163\n",
      "Iteration 544: 5.758609657015292e+163\n",
      "Iteration 545: 1.1517219314030583e+164\n",
      "Iteration 546: 2.3034438628061165e+164\n",
      "Iteration 547: 4.606887725612233e+164\n",
      "Iteration 548: 9.213775451224466e+164\n",
      "Iteration 549: 1.8427550902448932e+165\n",
      "Iteration 550: 3.6855101804897865e+165\n",
      "Iteration 551: 7.371020360979573e+165\n",
      "Iteration 552: 1.4742040721959146e+166\n",
      "Iteration 553: 2.9484081443918292e+166\n",
      "Iteration 554: 5.896816288783659e+166\n",
      "Iteration 555: 1.1793632577567317e+167\n",
      "Iteration 556: 2.3587265155134633e+167\n",
      "Iteration 557: 4.717453031026927e+167\n",
      "Iteration 558: 9.434906062053853e+167\n",
      "Iteration 559: 1.8869812124107707e+168\n",
      "Iteration 560: 3.7739624248215414e+168\n",
      "Iteration 561: 7.547924849643083e+168\n",
      "Iteration 562: 1.5095849699286165e+169\n",
      "Iteration 563: 3.019169939857233e+169\n",
      "Iteration 564: 6.038339879714466e+169\n",
      "Iteration 565: 1.2076679759428932e+170\n",
      "Iteration 566: 2.4153359518857865e+170\n",
      "Iteration 567: 4.830671903771573e+170\n",
      "Iteration 568: 9.661343807543146e+170\n",
      "Iteration 569: 1.9322687615086292e+171\n",
      "Iteration 570: 3.8645375230172583e+171\n",
      "Iteration 571: 7.729075046034517e+171\n",
      "Iteration 572: 1.5458150092069033e+172\n",
      "Iteration 573: 3.091630018413807e+172\n",
      "Iteration 574: 6.183260036827614e+172\n",
      "Iteration 575: 1.2366520073655227e+173\n",
      "Iteration 576: 2.4733040147310453e+173\n",
      "Iteration 577: 4.946608029462091e+173\n",
      "Iteration 578: 9.893216058924181e+173\n",
      "Iteration 579: 1.9786432117848363e+174\n",
      "Iteration 580: 3.9572864235696725e+174\n",
      "Iteration 581: 7.914572847139345e+174\n",
      "Iteration 582: 1.582914569427869e+175\n",
      "Iteration 583: 3.165829138855738e+175\n",
      "Iteration 584: 6.331658277711476e+175\n",
      "Iteration 585: 1.2663316555422952e+176\n",
      "Iteration 586: 2.5326633110845904e+176\n",
      "Iteration 587: 5.065326622169181e+176\n",
      "Iteration 588: 1.0130653244338362e+177\n",
      "Iteration 589: 2.0261306488676723e+177\n",
      "Iteration 590: 4.052261297735345e+177\n",
      "Iteration 591: 8.10452259547069e+177\n",
      "Iteration 592: 1.620904519094138e+178\n",
      "Iteration 593: 3.241809038188276e+178\n",
      "Iteration 594: 6.483618076376552e+178\n",
      "Iteration 595: 1.2967236152753103e+179\n",
      "Iteration 596: 2.5934472305506206e+179\n",
      "Iteration 597: 5.186894461101241e+179\n",
      "Iteration 598: 1.0373788922202482e+180\n",
      "Iteration 599: 2.0747577844404965e+180\n",
      "Iteration 600: 4.149515568880993e+180\n",
      "Iteration 601: 8.299031137761986e+180\n",
      "Iteration 602: 1.6598062275523972e+181\n",
      "Iteration 603: 3.3196124551047944e+181\n",
      "Iteration 604: 6.639224910209589e+181\n",
      "Iteration 605: 1.3278449820419177e+182\n",
      "Iteration 606: 2.6556899640838355e+182\n",
      "Iteration 607: 5.311379928167671e+182\n",
      "Iteration 608: 1.0622759856335342e+183\n",
      "Iteration 609: 2.1245519712670684e+183\n",
      "Iteration 610: 4.249103942534137e+183\n",
      "Iteration 611: 8.498207885068274e+183\n",
      "Iteration 612: 1.6996415770136547e+184\n",
      "Iteration 613: 3.3992831540273094e+184\n",
      "Iteration 614: 6.798566308054619e+184\n",
      "Iteration 615: 1.3597132616109238e+185\n",
      "Iteration 616: 2.7194265232218475e+185\n",
      "Iteration 617: 5.438853046443695e+185\n",
      "Iteration 618: 1.087770609288739e+186\n",
      "Iteration 619: 2.175541218577478e+186\n",
      "Iteration 620: 4.351082437154956e+186\n",
      "Iteration 621: 8.702164874309912e+186\n",
      "Iteration 622: 1.7404329748619824e+187\n",
      "Iteration 623: 3.480865949723965e+187\n",
      "Iteration 624: 6.96173189944793e+187\n",
      "Iteration 625: 1.392346379889586e+188\n",
      "Iteration 626: 2.784692759779172e+188\n",
      "Iteration 627: 5.569385519558344e+188\n",
      "Iteration 628: 1.1138771039116688e+189\n",
      "Iteration 629: 2.2277542078233375e+189\n",
      "Iteration 630: 4.455508415646675e+189\n",
      "Iteration 631: 8.91101683129335e+189\n",
      "Iteration 632: 1.78220336625867e+190\n",
      "Iteration 633: 3.56440673251734e+190\n",
      "Iteration 634: 7.12881346503468e+190\n",
      "Iteration 635: 1.425762693006936e+191\n",
      "Iteration 636: 2.851525386013872e+191\n",
      "Iteration 637: 5.703050772027744e+191\n",
      "Iteration 638: 1.1406101544055488e+192\n",
      "Iteration 639: 2.2812203088110976e+192\n",
      "Iteration 640: 4.562440617622195e+192\n",
      "Iteration 641: 9.12488123524439e+192\n",
      "Iteration 642: 1.824976247048878e+193\n",
      "Iteration 643: 3.649952494097756e+193\n",
      "Iteration 644: 7.299904988195512e+193\n",
      "Iteration 645: 1.4599809976391025e+194\n",
      "Iteration 646: 2.919961995278205e+194\n",
      "Iteration 647: 5.83992399055641e+194\n",
      "Iteration 648: 1.167984798111282e+195\n",
      "Iteration 649: 2.335969596222564e+195\n",
      "Iteration 650: 4.671939192445128e+195\n",
      "Iteration 651: 9.343878384890256e+195\n",
      "Iteration 652: 1.8687756769780512e+196\n",
      "Iteration 653: 3.7375513539561023e+196\n",
      "Iteration 654: 7.475102707912205e+196\n",
      "Iteration 655: 1.495020541582441e+197\n",
      "Iteration 656: 2.990041083164882e+197\n",
      "Iteration 657: 5.980082166329764e+197\n",
      "Iteration 658: 1.1960164332659527e+198\n",
      "Iteration 659: 2.3920328665319055e+198\n",
      "Iteration 660: 4.784065733063811e+198\n",
      "Iteration 661: 9.568131466127622e+198\n",
      "Iteration 662: 1.9136262932255244e+199\n",
      "Iteration 663: 3.827252586451049e+199\n",
      "Iteration 664: 7.654505172902098e+199\n",
      "Iteration 665: 1.5309010345804195e+200\n",
      "Iteration 666: 3.061802069160839e+200\n",
      "Iteration 667: 6.123604138321678e+200\n",
      "Iteration 668: 1.2247208276643356e+201\n",
      "Iteration 669: 2.4494416553286712e+201\n",
      "Iteration 670: 4.8988833106573424e+201\n",
      "Iteration 671: 9.797766621314685e+201\n",
      "Iteration 672: 1.959553324262937e+202\n",
      "Iteration 673: 3.919106648525874e+202\n",
      "Iteration 674: 7.838213297051748e+202\n",
      "Iteration 675: 1.5676426594103496e+203\n",
      "Iteration 676: 3.135285318820699e+203\n",
      "Iteration 677: 6.270570637641398e+203\n",
      "Iteration 678: 1.2541141275282797e+204\n",
      "Iteration 679: 2.5082282550565593e+204\n",
      "Iteration 680: 5.016456510113119e+204\n",
      "Iteration 681: 1.0032913020226237e+205\n",
      "Iteration 682: 2.0065826040452475e+205\n",
      "Iteration 683: 4.013165208090495e+205\n",
      "Iteration 684: 8.02633041618099e+205\n",
      "Iteration 685: 1.605266083236198e+206\n",
      "Iteration 686: 3.210532166472396e+206\n",
      "Iteration 687: 6.421064332944792e+206\n",
      "Iteration 688: 1.2842128665889584e+207\n",
      "Iteration 689: 2.568425733177917e+207\n",
      "Iteration 690: 5.136851466355834e+207\n",
      "Iteration 691: 1.0273702932711667e+208\n",
      "Iteration 692: 2.0547405865423334e+208\n",
      "Iteration 693: 4.109481173084667e+208\n",
      "Iteration 694: 8.218962346169334e+208\n",
      "Iteration 695: 1.6437924692338667e+209\n",
      "Iteration 696: 3.2875849384677334e+209\n",
      "Iteration 697: 6.575169876935467e+209\n",
      "Iteration 698: 1.3150339753870934e+210\n",
      "Iteration 699: 2.630067950774187e+210\n",
      "Iteration 700: 5.260135901548374e+210\n",
      "Iteration 701: 1.0520271803096747e+211\n",
      "Iteration 702: 2.1040543606193494e+211\n",
      "Iteration 703: 4.208108721238699e+211\n",
      "Iteration 704: 8.416217442477398e+211\n",
      "Iteration 705: 1.6832434884954795e+212\n",
      "Iteration 706: 3.366486976990959e+212\n",
      "Iteration 707: 6.732973953981918e+212\n",
      "Iteration 708: 1.3465947907963836e+213\n",
      "Iteration 709: 2.6931895815927672e+213\n",
      "Iteration 710: 5.386379163185535e+213\n",
      "Iteration 711: 1.077275832637107e+214\n",
      "Iteration 712: 2.154551665274214e+214\n",
      "Iteration 713: 4.309103330548428e+214\n",
      "Iteration 714: 8.618206661096855e+214\n",
      "Iteration 715: 1.723641332219371e+215\n",
      "Iteration 716: 3.447282664438742e+215\n",
      "Iteration 717: 6.894565328877484e+215\n",
      "Iteration 718: 1.3789130657754968e+216\n",
      "Iteration 719: 2.7578261315509936e+216\n",
      "Iteration 720: 5.515652263101987e+216\n",
      "Iteration 721: 1.1031304526203975e+217\n",
      "Iteration 722: 2.206260905240795e+217\n",
      "Iteration 723: 4.41252181048159e+217\n",
      "Iteration 724: 8.82504362096318e+217\n",
      "Iteration 725: 1.765008724192636e+218\n",
      "Iteration 726: 3.530017448385272e+218\n",
      "Iteration 727: 7.060034896770544e+218\n",
      "Iteration 728: 1.4120069793541087e+219\n",
      "Iteration 729: 2.8240139587082175e+219\n",
      "Iteration 730: 5.648027917416435e+219\n",
      "Iteration 731: 1.129605583483287e+220\n",
      "Iteration 732: 2.259211166966574e+220\n",
      "Iteration 733: 4.518422333933148e+220\n",
      "Iteration 734: 9.036844667866296e+220\n",
      "Iteration 735: 1.8073689335732592e+221\n",
      "Iteration 736: 3.6147378671465184e+221\n",
      "Iteration 737: 7.229475734293037e+221\n",
      "Iteration 738: 1.4458951468586074e+222\n",
      "Iteration 739: 2.891790293717215e+222\n",
      "Iteration 740: 5.78358058743443e+222\n",
      "Iteration 741: 1.156716117486886e+223\n",
      "Iteration 742: 2.313432234973772e+223\n",
      "Iteration 743: 4.626864469947544e+223\n",
      "Iteration 744: 9.253728939895087e+223\n",
      "Iteration 745: 1.8507457879790174e+224\n",
      "Iteration 746: 3.701491575958035e+224\n",
      "Iteration 747: 7.40298315191607e+224\n",
      "Iteration 748: 1.480596630383214e+225\n",
      "Iteration 749: 2.961193260766428e+225\n",
      "Iteration 750: 5.922386521532856e+225\n",
      "Iteration 751: 1.1844773043065711e+226\n",
      "Iteration 752: 2.3689546086131423e+226\n",
      "Iteration 753: 4.737909217226285e+226\n",
      "Iteration 754: 9.47581843445257e+226\n",
      "Iteration 755: 1.895163686890514e+227\n",
      "Iteration 756: 3.790327373781028e+227\n",
      "Iteration 757: 7.580654747562055e+227\n",
      "Iteration 758: 1.516130949512411e+228\n",
      "Iteration 759: 3.032261899024822e+228\n",
      "Iteration 760: 6.064523798049644e+228\n",
      "Iteration 761: 1.2129047596099289e+229\n",
      "Iteration 762: 2.4258095192198577e+229\n",
      "Iteration 763: 4.8516190384397154e+229\n",
      "Iteration 764: 9.703238076879431e+229\n",
      "Iteration 765: 1.9406476153758862e+230\n",
      "Iteration 766: 3.8812952307517723e+230\n",
      "Iteration 767: 7.762590461503545e+230\n",
      "Iteration 768: 1.552518092300709e+231\n",
      "Iteration 769: 3.105036184601418e+231\n",
      "Iteration 770: 6.210072369202836e+231\n",
      "Iteration 771: 1.2420144738405671e+232\n",
      "Iteration 772: 2.4840289476811343e+232\n",
      "Iteration 773: 4.968057895362269e+232\n",
      "Iteration 774: 9.936115790724537e+232\n",
      "Iteration 775: 1.9872231581449074e+233\n",
      "Iteration 776: 3.974446316289815e+233\n",
      "Iteration 777: 7.94889263257963e+233\n",
      "Iteration 778: 1.589778526515926e+234\n",
      "Iteration 779: 3.179557053031852e+234\n",
      "Iteration 780: 6.359114106063704e+234\n",
      "Iteration 781: 1.2718228212127408e+235\n",
      "Iteration 782: 2.5436456424254815e+235\n",
      "Iteration 783: 5.087291284850963e+235\n",
      "Iteration 784: 1.0174582569701926e+236\n",
      "Iteration 785: 2.0349165139403852e+236\n",
      "Iteration 786: 4.0698330278807704e+236\n",
      "Iteration 787: 8.139666055761541e+236\n",
      "Iteration 788: 1.6279332111523082e+237\n",
      "Iteration 789: 3.2558664223046163e+237\n",
      "Iteration 790: 6.511732844609233e+237\n",
      "Iteration 791: 1.3023465689218465e+238\n",
      "Iteration 792: 2.604693137843693e+238\n",
      "Iteration 793: 5.209386275687386e+238\n",
      "Iteration 794: 1.0418772551374772e+239\n",
      "Iteration 795: 2.0837545102749545e+239\n",
      "Iteration 796: 4.167509020549909e+239\n",
      "Iteration 797: 8.335018041099818e+239\n",
      "Iteration 798: 1.6670036082199636e+240\n",
      "Iteration 799: 3.334007216439927e+240\n",
      "Iteration 800: 6.668014432879854e+240\n",
      "Iteration 801: 1.333602886575971e+241\n",
      "Iteration 802: 2.667205773151942e+241\n",
      "Iteration 803: 5.334411546303884e+241\n",
      "Iteration 804: 1.0668823092607767e+242\n",
      "Iteration 805: 2.1337646185215534e+242\n",
      "Iteration 806: 4.267529237043107e+242\n",
      "Iteration 807: 8.535058474086213e+242\n",
      "Iteration 808: 1.7070116948172427e+243\n",
      "Iteration 809: 3.4140233896344854e+243\n",
      "Iteration 810: 6.828046779268971e+243\n",
      "Iteration 811: 1.3656093558537942e+244\n",
      "Iteration 812: 2.7312187117075883e+244\n",
      "Iteration 813: 5.462437423415177e+244\n",
      "Iteration 814: 1.0924874846830353e+245\n",
      "Iteration 815: 2.1849749693660706e+245\n",
      "Iteration 816: 4.3699499387321413e+245\n",
      "Iteration 817: 8.739899877464283e+245\n",
      "Iteration 818: 1.7479799754928565e+246\n",
      "Iteration 819: 3.495959950985713e+246\n",
      "Iteration 820: 6.991919901971426e+246\n",
      "Iteration 821: 1.3983839803942852e+247\n",
      "Iteration 822: 2.7967679607885704e+247\n",
      "Iteration 823: 5.593535921577141e+247\n",
      "Iteration 824: 1.1187071843154282e+248\n",
      "Iteration 825: 2.2374143686308563e+248\n",
      "Iteration 826: 4.474828737261713e+248\n",
      "Iteration 827: 8.949657474523425e+248\n",
      "Iteration 828: 1.789931494904685e+249\n",
      "Iteration 829: 3.57986298980937e+249\n",
      "Iteration 830: 7.15972597961874e+249\n",
      "Iteration 831: 1.431945195923748e+250\n",
      "Iteration 832: 2.863890391847496e+250\n",
      "Iteration 833: 5.727780783694992e+250\n",
      "Iteration 834: 1.1455561567389984e+251\n",
      "Iteration 835: 2.291112313477997e+251\n",
      "Iteration 836: 4.582224626955994e+251\n",
      "Iteration 837: 9.164449253911988e+251\n",
      "Iteration 838: 1.8328898507823975e+252\n",
      "Iteration 839: 3.665779701564795e+252\n",
      "Iteration 840: 7.33155940312959e+252\n",
      "Iteration 841: 1.466311880625918e+253\n",
      "Iteration 842: 2.932623761251836e+253\n",
      "Iteration 843: 5.865247522503672e+253\n",
      "Iteration 844: 1.1730495045007344e+254\n",
      "Iteration 845: 2.346099009001469e+254\n",
      "Iteration 846: 4.692198018002938e+254\n",
      "Iteration 847: 9.384396036005875e+254\n",
      "Iteration 848: 1.876879207201175e+255\n",
      "Iteration 849: 3.75375841440235e+255\n",
      "Iteration 850: 7.5075168288047e+255\n",
      "Iteration 851: 1.50150336576094e+256\n",
      "Iteration 852: 3.00300673152188e+256\n",
      "Iteration 853: 6.00601346304376e+256\n",
      "Iteration 854: 1.201202692608752e+257\n",
      "Iteration 855: 2.402405385217504e+257\n",
      "Iteration 856: 4.804810770435008e+257\n",
      "Iteration 857: 9.609621540870016e+257\n",
      "Iteration 858: 1.9219243081740033e+258\n",
      "Iteration 859: 3.8438486163480065e+258\n",
      "Iteration 860: 7.687697232696013e+258\n",
      "Iteration 861: 1.5375394465392026e+259\n",
      "Iteration 862: 3.0750788930784052e+259\n",
      "Iteration 863: 6.150157786156811e+259\n",
      "Iteration 864: 1.2300315572313621e+260\n",
      "Iteration 865: 2.4600631144627242e+260\n",
      "Iteration 866: 4.9201262289254483e+260\n",
      "Iteration 867: 9.840252457850897e+260\n",
      "Iteration 868: 1.9680504915701793e+261\n",
      "Iteration 869: 3.936100983140359e+261\n",
      "Iteration 870: 7.872201966280717e+261\n",
      "Iteration 871: 1.5744403932561435e+262\n",
      "Iteration 872: 3.148880786512287e+262\n",
      "Iteration 873: 6.297761573024574e+262\n",
      "Iteration 874: 1.2595523146049148e+263\n",
      "Iteration 875: 2.5191046292098296e+263\n",
      "Iteration 876: 5.038209258419659e+263\n",
      "Iteration 877: 1.0076418516839318e+264\n",
      "Iteration 878: 2.0152837033678636e+264\n",
      "Iteration 879: 4.0305674067357273e+264\n",
      "Iteration 880: 8.061134813471455e+264\n",
      "Iteration 881: 1.612226962694291e+265\n",
      "Iteration 882: 3.224453925388582e+265\n",
      "Iteration 883: 6.448907850777164e+265\n",
      "Iteration 884: 1.2897815701554327e+266\n",
      "Iteration 885: 2.5795631403108655e+266\n",
      "Iteration 886: 5.159126280621731e+266\n",
      "Iteration 887: 1.0318252561243462e+267\n",
      "Iteration 888: 2.0636505122486924e+267\n",
      "Iteration 889: 4.127301024497385e+267\n",
      "Iteration 890: 8.25460204899477e+267\n",
      "Iteration 891: 1.650920409798954e+268\n",
      "Iteration 892: 3.301840819597908e+268\n",
      "Iteration 893: 6.603681639195816e+268\n",
      "Iteration 894: 1.3207363278391631e+269\n",
      "Iteration 895: 2.6414726556783262e+269\n",
      "Iteration 896: 5.282945311356653e+269\n",
      "Iteration 897: 1.0565890622713305e+270\n",
      "Iteration 898: 2.113178124542661e+270\n",
      "Iteration 899: 4.226356249085322e+270\n",
      "Iteration 900: 8.452712498170644e+270\n",
      "Iteration 901: 1.6905424996341288e+271\n",
      "Iteration 902: 3.3810849992682576e+271\n",
      "Iteration 903: 6.762169998536515e+271\n",
      "Iteration 904: 1.352433999707303e+272\n",
      "Iteration 905: 2.704867999414606e+272\n",
      "Iteration 906: 5.409735998829212e+272\n",
      "Iteration 907: 1.0819471997658424e+273\n",
      "Iteration 908: 2.163894399531685e+273\n",
      "Iteration 909: 4.32778879906337e+273\n",
      "Iteration 910: 8.65557759812674e+273\n",
      "Iteration 911: 1.731115519625348e+274\n",
      "Iteration 912: 3.462231039250696e+274\n",
      "Iteration 913: 6.924462078501392e+274\n",
      "Iteration 914: 1.3848924157002783e+275\n",
      "Iteration 915: 2.7697848314005566e+275\n",
      "Iteration 916: 5.539569662801113e+275\n",
      "Iteration 917: 1.1079139325602226e+276\n",
      "Iteration 918: 2.2158278651204453e+276\n",
      "Iteration 919: 4.431655730240891e+276\n",
      "Iteration 920: 8.863311460481781e+276\n",
      "Iteration 921: 1.7726622920963562e+277\n",
      "Iteration 922: 3.5453245841927125e+277\n",
      "Iteration 923: 7.090649168385425e+277\n",
      "Iteration 924: 1.418129833677085e+278\n",
      "Iteration 925: 2.83625966735417e+278\n",
      "Iteration 926: 5.67251933470834e+278\n",
      "Iteration 927: 1.134503866941668e+279\n",
      "Iteration 928: 2.269007733883336e+279\n",
      "Iteration 929: 4.538015467766672e+279\n",
      "Iteration 930: 9.076030935533344e+279\n",
      "Iteration 931: 1.8152061871066688e+280\n",
      "Iteration 932: 3.6304123742133376e+280\n",
      "Iteration 933: 7.260824748426675e+280\n",
      "Iteration 934: 1.452164949685335e+281\n",
      "Iteration 935: 2.90432989937067e+281\n",
      "Iteration 936: 5.80865979874134e+281\n",
      "Iteration 937: 1.161731959748268e+282\n",
      "Iteration 938: 2.323463919496536e+282\n",
      "Iteration 939: 4.646927838993072e+282\n",
      "Iteration 940: 9.293855677986144e+282\n",
      "Iteration 941: 1.858771135597229e+283\n",
      "Iteration 942: 3.717542271194458e+283\n",
      "Iteration 943: 7.435084542388915e+283\n",
      "Iteration 944: 1.487016908477783e+284\n",
      "Iteration 945: 2.974033816955566e+284\n",
      "Iteration 946: 5.948067633911132e+284\n",
      "Iteration 947: 1.1896135267822265e+285\n",
      "Iteration 948: 2.379227053564453e+285\n",
      "Iteration 949: 4.758454107128906e+285\n",
      "Iteration 950: 9.516908214257812e+285\n",
      "Iteration 951: 1.9033816428515623e+286\n",
      "Iteration 952: 3.806763285703125e+286\n",
      "Iteration 953: 7.61352657140625e+286\n",
      "Iteration 954: 1.52270531428125e+287\n",
      "Iteration 955: 3.0454106285625e+287\n",
      "Iteration 956: 6.090821257125e+287\n",
      "Iteration 957: 1.218164251425e+288\n",
      "Iteration 958: 2.43632850285e+288\n",
      "Iteration 959: 4.8726570057e+288\n",
      "Iteration 960: 9.7453140114e+288\n",
      "Iteration 961: 1.94906280228e+289\n",
      "Iteration 962: 3.89812560456e+289\n",
      "Iteration 963: 7.79625120912e+289\n",
      "Iteration 964: 1.559250241824e+290\n",
      "Iteration 965: 3.118500483648e+290\n",
      "Iteration 966: 6.237000967296e+290\n",
      "Iteration 967: 1.2474001934592e+291\n",
      "Iteration 968: 2.4948003869184e+291\n",
      "Iteration 969: 4.9896007738368e+291\n",
      "Iteration 970: 9.9792015476736e+291\n",
      "Iteration 971: 1.99584030953472e+292\n",
      "Iteration 972: 3.99168061906944e+292\n",
      "Iteration 973: 7.98336123813888e+292\n",
      "Iteration 974: 1.596672247627776e+293\n",
      "Iteration 975: 3.193344495255552e+293\n",
      "Iteration 976: 6.386688990511104e+293\n",
      "Iteration 977: 1.2773377981022207e+294\n",
      "Iteration 978: 2.5546755962044414e+294\n",
      "Iteration 979: 5.109351192408883e+294\n",
      "Iteration 980: 1.0218702384817765e+295\n",
      "Iteration 981: 2.043740476963553e+295\n",
      "Iteration 982: 4.087480953927106e+295\n",
      "Iteration 983: 8.174961907854212e+295\n",
      "Iteration 984: 1.6349923815708425e+296\n",
      "Iteration 985: 3.269984763141685e+296\n",
      "Iteration 986: 6.53996952628337e+296\n",
      "Iteration 987: 1.307993905256674e+297\n",
      "Iteration 988: 2.615987810513348e+297\n",
      "Iteration 989: 5.231975621026696e+297\n",
      "Iteration 990: 1.0463951242053392e+298\n",
      "Iteration 991: 2.0927902484106784e+298\n",
      "Iteration 992: 4.185580496821357e+298\n",
      "Iteration 993: 8.371160993642713e+298\n",
      "Iteration 994: 1.6742321987285427e+299\n",
      "Iteration 995: 3.3484643974570854e+299\n",
      "Iteration 996: 6.696928794914171e+299\n",
      "Iteration 997: 1.3393857589828342e+300\n",
      "Iteration 998: 2.6787715179656683e+300\n",
      "Iteration 999: 5.357543035931337e+300\n",
      "Iteration 1000: 1.0715086071862673e+301\n",
      "Iteration 1001: 2.1430172143725346e+301\n",
      "Iteration 1002: 4.2860344287450693e+301\n",
      "Iteration 1003: 8.572068857490139e+301\n",
      "Iteration 1004: 1.7144137714980277e+302\n",
      "Iteration 1005: 3.4288275429960554e+302\n",
      "Iteration 1006: 6.857655085992111e+302\n",
      "Iteration 1007: 1.3715310171984222e+303\n",
      "Iteration 1008: 2.7430620343968443e+303\n",
      "Iteration 1009: 5.486124068793689e+303\n",
      "Iteration 1010: 1.0972248137587377e+304\n",
      "Iteration 1011: 2.1944496275174755e+304\n",
      "Iteration 1012: 4.388899255034951e+304\n",
      "Iteration 1013: 8.777798510069902e+304\n",
      "Iteration 1014: 1.7555597020139804e+305\n",
      "Iteration 1015: 3.511119404027961e+305\n",
      "Iteration 1016: 7.022238808055922e+305\n",
      "Iteration 1017: 1.4044477616111843e+306\n",
      "Iteration 1018: 2.8088955232223686e+306\n",
      "Iteration 1019: 5.617791046444737e+306\n",
      "Iteration 1020: 1.1235582092889474e+307\n",
      "Iteration 1021: 2.247116418577895e+307\n",
      "Iteration 1022: 4.49423283715579e+307\n",
      "Iteration 1023: 8.98846567431158e+307\n",
      "Iteration 1024: inf\n"
     ]
    }
   ],
   "source": [
    "def multiply_till_overflow(number):\n",
    "    i = 1\n",
    "    while number != float('inf'):\n",
    "        number *= 2\n",
    "        print(f\"Iteration {i}: {number}\")\n",
    "        i += 1\n",
    "\n",
    "multiply_till_overflow(1.0)"
   ]
  },
  {
   "cell_type": "markdown",
   "metadata": {},
   "source": [
    "---\n",
    "**Task** How many iterations were needed??\n",
    "\n",
    "\n",
    "Answer:\n",
    "\n",
    "## 1024"
   ]
  },
  {
   "cell_type": "code",
   "execution_count": 30,
   "metadata": {},
   "outputs": [
    {
     "name": "stdout",
     "output_type": "stream",
     "text": [
      "Machine parameters for int32\n",
      "---------------------------------------------------------------\n",
      "min = -2147483648\n",
      "max = 2147483647\n",
      "---------------------------------------------------------------\n",
      "\n",
      "Machine parameters for int64\n",
      "---------------------------------------------------------------\n",
      "min = -9223372036854775808\n",
      "max = 9223372036854775807\n",
      "---------------------------------------------------------------\n",
      "\n"
     ]
    }
   ],
   "source": [
    "## Get the information for the data types\n",
    "print(np.iinfo(np.int32))\n",
    "print(np.iinfo(np.int64))"
   ]
  },
  {
   "cell_type": "code",
   "execution_count": 31,
   "metadata": {},
   "outputs": [
    {
     "name": "stdout",
     "output_type": "stream",
     "text": [
      "Machine parameters for float16\n",
      "---------------------------------------------------------------\n",
      "precision =   3   resolution = 1.00040e-03\n",
      "machep =    -10   eps =        9.76562e-04\n",
      "negep =     -11   epsneg =     4.88281e-04\n",
      "minexp =    -14   tiny =       6.10352e-05\n",
      "maxexp =     16   max =        6.55040e+04\n",
      "nexp =        5   min =        -max\n",
      "smallest_normal = 6.10352e-05   smallest_subnormal = 5.96046e-08\n",
      "---------------------------------------------------------------\n",
      "\n",
      "Machine parameters for float32\n",
      "---------------------------------------------------------------\n",
      "precision =   6   resolution = 1.0000000e-06\n",
      "machep =    -23   eps =        1.1920929e-07\n",
      "negep =     -24   epsneg =     5.9604645e-08\n",
      "minexp =   -126   tiny =       1.1754944e-38\n",
      "maxexp =    128   max =        3.4028235e+38\n",
      "nexp =        8   min =        -max\n",
      "smallest_normal = 1.1754944e-38   smallest_subnormal = 1.4012985e-45\n",
      "---------------------------------------------------------------\n",
      "\n",
      "Machine parameters for float64\n",
      "---------------------------------------------------------------\n",
      "precision =  15   resolution = 1.0000000000000001e-15\n",
      "machep =    -52   eps =        2.2204460492503131e-16\n",
      "negep =     -53   epsneg =     1.1102230246251565e-16\n",
      "minexp =  -1022   tiny =       2.2250738585072014e-308\n",
      "maxexp =   1024   max =        1.7976931348623157e+308\n",
      "nexp =       11   min =        -max\n",
      "smallest_normal = 2.2250738585072014e-308   smallest_subnormal = 4.9406564584124654e-324\n",
      "---------------------------------------------------------------\n",
      "\n",
      "Machine parameters for float128\n",
      "---------------------------------------------------------------\n",
      "precision =  18   resolution = 1e-18\n",
      "machep =    -63   eps =        1.084202172485504434e-19\n",
      "negep =     -64   epsneg =     5.42101086242752217e-20\n",
      "minexp = -16382   tiny =       3.3621031431120935063e-4932\n",
      "maxexp =  16384   max =        1.189731495357231765e+4932\n",
      "nexp =       15   min =        -max\n",
      "smallest_normal = 3.3621031431120935063e-4932   smallest_subnormal = 4e-4951\n",
      "---------------------------------------------------------------\n",
      "\n"
     ]
    }
   ],
   "source": [
    "## Similar for floating point\n",
    "print(np.finfo(np.float16))\n",
    "print(np.finfo(np.float32))\n",
    "print(np.finfo(np.float64))\n",
    "print(np.finfo(np.float128))"
   ]
  },
  {
   "cell_type": "markdown",
   "metadata": {},
   "source": [
    "### Roundoff Error\n",
    "\n",
    "When two floating point numbers are operated on, their representation is adjusted such that their exponents match the higher value of the two. This also requires the significand to be adjusted such that the original value is still represented. \n",
    "\n",
    "When two floating point numbers are operated on, their representation is adjusted such that their exponents match the higher value of the two. This also requires the significand to be adjusted such that the original value is still represented. When this occurs, since the exponent of the floating point is usually increase, the significand gets right shifted. **The problem arises is when the significand starts to loose bits of the right side due to the limited number of bits in the significand. This causes the significant digits of the significand to be reduced and the value represented rounded off as a result, hence the reason it is called round off error.**"
   ]
  },
  {
   "cell_type": "code",
   "execution_count": 32,
   "metadata": {},
   "outputs": [
    {
     "name": "stdout",
     "output_type": "stream",
     "text": [
      "Difference: 1.000000082740371e-09\n"
     ]
    }
   ],
   "source": [
    "## Loss of Significance\n",
    "a = 1.123456789\n",
    "b = 1.123456788\n",
    "difference = a - b\n",
    "print(f\"Difference: {difference}\")\n",
    "# This value might be smaller than expected due to the loss of significance in floating-point arithmetic."
   ]
  },
  {
   "cell_type": "code",
   "execution_count": 33,
   "metadata": {},
   "outputs": [],
   "source": [
    "import numpy as np\n",
    "values = np.full(shape=100, fill_value=10, dtype=np.float32) # Return a new array of given shape and type, filled with fill_value.\n",
    "sum = np.float32(100000000)\n",
    "for val in values:\n",
    "    sum += val"
   ]
  },
  {
   "cell_type": "code",
   "execution_count": 34,
   "metadata": {},
   "outputs": [
    {
     "data": {
      "text/plain": [
       "np.float32(100000800.0)"
      ]
     },
     "execution_count": 34,
     "metadata": {},
     "output_type": "execute_result"
    }
   ],
   "source": [
    "sum"
   ]
  },
  {
   "cell_type": "markdown",
   "metadata": {},
   "source": [
    "Since we're adding ten 100 times, we expect to see 100001000.0 but `sum` falls short of this result. Let's try to capture this error:"
   ]
  },
  {
   "cell_type": "code",
   "execution_count": 35,
   "metadata": {},
   "outputs": [],
   "source": [
    "def get_sum(dtype):\n",
    "    values = np.full(shape=100, fill_value=10, dtype=dtype) # Return a new array of given shape and type, filled with fill_value.\n",
    "    sum = dtype(100000000)\n",
    "\n",
    "    for val in values:\n",
    "        temp_sum = sum + val # sum two components\n",
    "        error = (temp_sum - sum) - val # from the sum, subtract both components, should get ideally 0 but there will be a non-zero error\n",
    "        sum = temp_sum # update for next iteration\n",
    "\n",
    "    return sum, error"
   ]
  },
  {
   "cell_type": "code",
   "execution_count": 36,
   "metadata": {},
   "outputs": [
    {
     "name": "stdout",
     "output_type": "stream",
     "text": [
      "f32: 100000800.0 -2.0\n",
      "f64: 100001000.0 0.0\n"
     ]
    }
   ],
   "source": [
    "f32_sum, f32_error = get_sum(np.float32)\n",
    "f64_sum, f64_error = get_sum(np.float64)\n",
    "print(f\"f32: {format(f32_sum, '.1f')} {format(f32_error, '.1f')}\")\n",
    "print(f\"f64: {format(f64_sum, '.1f')} {format(f64_error, '.1f')}\")"
   ]
  },
  {
   "cell_type": "code",
   "execution_count": null,
   "metadata": {},
   "outputs": [],
   "source": []
  },
  {
   "cell_type": "code",
   "execution_count": null,
   "metadata": {},
   "outputs": [],
   "source": []
  },
  {
   "cell_type": "markdown",
   "metadata": {},
   "source": [
    "Read more about how mitigate this error - https://diybigdata.net/2016/07/data-science-and-floating-point-arithmetic/"
   ]
  },
  {
   "cell_type": "markdown",
   "metadata": {},
   "source": [
    "## Effects on some simple functions"
   ]
  },
  {
   "cell_type": "code",
   "execution_count": 37,
   "metadata": {},
   "outputs": [
    {
     "name": "stdout",
     "output_type": "stream",
     "text": [
      "Expected Sum: 1000000.0\n",
      "Actual Sum: 999999.9999999782\n",
      "Error: 2.176966518163681e-08\n"
     ]
    }
   ],
   "source": [
    "##  Iterative Summation\n",
    "numbers = [0.1]*10000000\n",
    "expected_sum = 0.1 * 10000000\n",
    "\n",
    "# Iterative summation\n",
    "actual_sum = np.sum(numbers)\n",
    "\n",
    "print(f\"Expected Sum: {expected_sum}\")\n",
    "print(f\"Actual Sum: {actual_sum}\")\n",
    "print(f\"Error: {expected_sum - actual_sum}\")"
   ]
  },
  {
   "cell_type": "code",
   "execution_count": 38,
   "metadata": {},
   "outputs": [
    {
     "name": "stdout",
     "output_type": "stream",
     "text": [
      "Roots: [2.88729833 2.11270167 1.        ]\n"
     ]
    }
   ],
   "source": [
    "### Polynomial Roots\n",
    "coefficients = [1, -6, 11.1, -6.1]  # Roots are 1, 2, and 3.1, but the coefficients are slightly perturbed.\n",
    "roots = np.roots(coefficients)\n",
    "\n",
    "print(f\"Roots: {roots}\")"
   ]
  },
  {
   "cell_type": "code",
   "execution_count": 39,
   "metadata": {},
   "outputs": [
    {
     "name": "stdout",
     "output_type": "stream",
     "text": [
      "Hilbert Matrix (4x4):\n",
      "[[1.         0.5        0.33333333 0.25      ]\n",
      " [0.5        0.33333333 0.25       0.2       ]\n",
      " [0.33333333 0.25       0.2        0.16666667]\n",
      " [0.25       0.2        0.16666667 0.14285714]]\n",
      "\n",
      "Inverse of the Hilbert Matrix:\n",
      "[[   16.  -120.   240.  -140.]\n",
      " [ -120.  1200. -2700.  1680.]\n",
      " [  240. -2700.  6480. -4200.]\n",
      " [ -140.  1680. -4200.  2800.]]\n",
      "\n",
      "Hilbert Matrix * Its Inverse (which should be the identy matrix):\n",
      "[[ 1.00000000e+00  0.00000000e+00  2.27373675e-13  0.00000000e+00]\n",
      " [-1.55431223e-15  1.00000000e+00  1.12532206e-13  3.10862447e-14]\n",
      " [ 1.29526020e-15 -3.44909286e-14  1.00000000e+00 -4.48530102e-14]\n",
      " [-5.99520433e-15  8.00629404e-14 -1.61585031e-13  1.00000000e+00]]\n",
      "\n",
      "Identity Matrix:\n",
      "[[1. 0. 0. 0.]\n",
      " [0. 1. 0. 0.]\n",
      " [0. 0. 1. 0.]\n",
      " [0. 0. 0. 1.]]\n"
     ]
    }
   ],
   "source": [
    "# Matrix inversion\n",
    "# try different values for n\n",
    "\n",
    "def hilbert_matrix(n):\n",
    "    \"\"\"Generate an n x n Hilbert matrix.\"\"\"\n",
    "    H = np.zeros((n, n))\n",
    "    for i in range(n):\n",
    "        for j in range(n):\n",
    "            H[i, j] = 1.0 / (i + j + 1)\n",
    "    return H\n",
    "\n",
    "matrix = hilbert_matrix(4)\n",
    "print(\"Hilbert Matrix (4x4):\")\n",
    "print(matrix)\n",
    "\n",
    "inverse = np.linalg.inv(matrix)\n",
    "print(\"\\nInverse of the Hilbert Matrix:\")\n",
    "print(inverse)\n",
    "\n",
    "product = np.dot(matrix, inverse)\n",
    "print(\"\\nHilbert Matrix * Its Inverse (which should be the identy matrix):\")\n",
    "print(product)  ## Should be identity matrix\n",
    "print(\"\\nIdentity Matrix:\")\n",
    "print(np.eye(4))"
   ]
  },
  {
   "cell_type": "code",
   "execution_count": 40,
   "metadata": {},
   "outputs": [
    {
     "name": "stdout",
     "output_type": "stream",
     "text": [
      "\n",
      "Error from Identity: 3.8070941655443306e-13\n"
     ]
    }
   ],
   "source": [
    "error = np.linalg.norm(product - np.eye(4))\n",
    "print(f\"\\nError from Identity: {error}\")"
   ]
  },
  {
   "cell_type": "markdown",
   "metadata": {},
   "source": [
    "More on Hilbert Matrix: https://en.wikipedia.org/wiki/Hilbert_matrix"
   ]
  },
  {
   "cell_type": "markdown",
   "metadata": {
    "tags": []
   },
   "source": [
    "### **Task**: Write a for loop code that keeps track for the error for different values of n (from 2 to 12) and plot the error as computed above vs n"
   ]
  },
  {
   "cell_type": "code",
   "execution_count": 46,
   "metadata": {},
   "outputs": [
    {
     "data": {
      "image/png": "[encoded data removed]",
      "text/plain": [
       "<Figure size 1000x600 with 1 Axes>"
      ]
     },
     "metadata": {},
     "output_type": "display_data"
    }
   ],
   "source": [
    "## Code:\n",
    "import matplotlib.pyplot as plt\n",
    "\n",
    "errors = []\n",
    "for n in range(2, 13):\n",
    "    matrix = hilbert_matrix(n)\n",
    "    inverse = np.linalg.inv(matrix)\n",
    "    identity_approx = np.dot(matrix, inverse)\n",
    "    identity_exact = np.eye(n)\n",
    "    \n",
    "    # Compute the error as the Frobenius norm of the difference\n",
    "    error = np.linalg.norm(identity_approx - identity_exact)\n",
    "    errors.append(error)\n",
    "\n",
    "# Plotting the error vs n\n",
    "plt.figure(figsize=(10, 6))\n",
    "plt.plot(range(2, 13), errors, marker='o')\n",
    "plt.xlabel('n (size of Hilbert Matrix)')\n",
    "plt.ylabel('Error (Frobenius Norm)')\n",
    "plt.title('Error in Matrix Inversion vs n for Hilbert Matrix')\n",
    "plt.grid(True)\n",
    "plt.show()"
   ]
  },
  {
   "cell_type": "markdown",
   "metadata": {},
   "source": [
    "**Q**: what do you notice as you try different values of n?\n",
    "\n",
    "## The error goes way up when the hilbert matrix n goes bigger than 11"
   ]
  },
  {
   "cell_type": "markdown",
   "metadata": {},
   "source": [
    "---------------------------\n",
    "\n",
    "### Effects of datatypes on 2D convolution results - Run time"
   ]
  },
  {
   "cell_type": "markdown",
   "metadata": {},
   "source": [
    "We will use the memory profiler library to analyze the memory utilization"
   ]
  },
  {
   "cell_type": "code",
   "execution_count": 47,
   "metadata": {},
   "outputs": [
    {
     "name": "stdout",
     "output_type": "stream",
     "text": [
      "Collecting scikit-image\n",
      "  Downloading scikit_image-0.24.0-cp312-cp312-manylinux_2_17_x86_64.manylinux2014_x86_64.whl.metadata (14 kB)\n",
      "Requirement already satisfied: numpy>=1.23 in /home/yifan20/miniconda3/envs/bioe/lib/python3.12/site-packages (from scikit-image) (2.0.2)\n",
      "Collecting scipy>=1.9 (from scikit-image)\n",
      "  Downloading scipy-1.14.1-cp312-cp312-manylinux_2_17_x86_64.manylinux2014_x86_64.whl.metadata (60 kB)\n",
      "Collecting networkx>=2.8 (from scikit-image)\n",
      "  Downloading networkx-3.3-py3-none-any.whl.metadata (5.1 kB)\n",
      "Requirement already satisfied: pillow>=9.1 in /home/yifan20/miniconda3/envs/bioe/lib/python3.12/site-packages (from scikit-image) (10.4.0)\n",
      "Collecting imageio>=2.33 (from scikit-image)\n",
      "  Downloading imageio-2.35.1-py3-none-any.whl.metadata (4.9 kB)\n",
      "Collecting tifffile>=2022.8.12 (from scikit-image)\n",
      "  Downloading tifffile-2024.9.20-py3-none-any.whl.metadata (32 kB)\n",
      "Requirement already satisfied: packaging>=21 in /home/yifan20/miniconda3/envs/bioe/lib/python3.12/site-packages (from scikit-image) (24.1)\n",
      "Collecting lazy-loader>=0.4 (from scikit-image)\n",
      "  Downloading lazy_loader-0.4-py3-none-any.whl.metadata (7.6 kB)\n",
      "Downloading scikit_image-0.24.0-cp312-cp312-manylinux_2_17_x86_64.manylinux2014_x86_64.whl (15.0 MB)\n",
      "\u001b[2K   \u001b[90m━━━━━━━━━━━━━━━━━━━━━━━━━━━━━━━━━━━━━━━━\u001b[0m \u001b[32m15.0/15.0 MB\u001b[0m \u001b[31m206.7 MB/s\u001b[0m eta \u001b[36m0:00:00\u001b[0m\n",
      "\u001b[?25hDownloading imageio-2.35.1-py3-none-any.whl (315 kB)\n",
      "Downloading lazy_loader-0.4-py3-none-any.whl (12 kB)\n",
      "Downloading networkx-3.3-py3-none-any.whl (1.7 MB)\n",
      "\u001b[2K   \u001b[90m━━━━━━━━━━━━━━━━━━━━━━━━━━━━━━━━━━━━━━━━\u001b[0m \u001b[32m1.7/1.7 MB\u001b[0m \u001b[31m218.1 MB/s\u001b[0m eta \u001b[36m0:00:00\u001b[0m\n",
      "\u001b[?25hDownloading scipy-1.14.1-cp312-cp312-manylinux_2_17_x86_64.manylinux2014_x86_64.whl (40.8 MB)\n",
      "\u001b[2K   \u001b[90m━━━━━━━━━━━━━━━━━━━━━━━━━━━━━━━━━━━━━━━━\u001b[0m \u001b[32m40.8/40.8 MB\u001b[0m \u001b[31m178.6 MB/s\u001b[0m eta \u001b[36m0:00:00\u001b[0m00:01\u001b[0m\n",
      "\u001b[?25hDownloading tifffile-2024.9.20-py3-none-any.whl (228 kB)\n",
      "Installing collected packages: tifffile, scipy, networkx, lazy-loader, imageio, scikit-image\n",
      "Successfully installed imageio-2.35.1 lazy-loader-0.4 networkx-3.3 scikit-image-0.24.0 scipy-1.14.1 tifffile-2024.9.20\n"
     ]
    }
   ],
   "source": [
    "!pip install scikit-image"
   ]
  },
  {
   "cell_type": "code",
   "execution_count": 48,
   "metadata": {},
   "outputs": [
    {
     "name": "stdout",
     "output_type": "stream",
     "text": [
      "Requirement already satisfied: memory_profiler in /home/yifan20/miniconda3/envs/bioe/lib/python3.12/site-packages (0.61.0)\n",
      "Requirement already satisfied: psutil in /home/yifan20/miniconda3/envs/bioe/lib/python3.12/site-packages (from memory_profiler) (6.0.0)\n"
     ]
    }
   ],
   "source": [
    "!pip install memory_profiler\n",
    "%load_ext memory_profiler\n",
    "\n",
    "from skimage.io import imread, imshow, imsave\n",
    "from skimage.filters import gaussian\n",
    "from scipy.signal import convolve2d\n",
    "from skimage.color import rgb2gray\n",
    "import numpy as np\n",
    "from matplotlib import pyplot as plt\n",
    "import time\n",
    "%matplotlib inline\n",
    "from memory_profiler import memory_usage"
   ]
  },
  {
   "cell_type": "code",
   "execution_count": 49,
   "metadata": {},
   "outputs": [],
   "source": [
    "def convolve2D(image, kernel, padding=0):\n",
    "    # Cross Correlation\n",
    "    kernel = np.flipud(np.fliplr(kernel))\n",
    "\n",
    "    # Gather Shapes of Kernel + Image + Padding\n",
    "    xKernShape = kernel.shape[0]\n",
    "    yKernShape = kernel.shape[1]\n",
    "    xImgShape = image.shape[0]\n",
    "    yImgShape = image.shape[1]\n",
    "\n",
    "    # Shape of Output Convolution\n",
    "    xOutput = int((xImgShape - xKernShape + 2 * padding) + 1)\n",
    "    yOutput = int((yImgShape - yKernShape + 2 * padding) + 1)\n",
    "    output = np.zeros((xOutput, yOutput))\n",
    "\n",
    "    # Apply Equal Padding to All Sides\n",
    "    if padding != 0:\n",
    "        imagePadded = np.zeros(\n",
    "            (image.shape[0] + padding*2, image.shape[1] + padding*2))\n",
    "        imagePadded[int(padding):int(-1 * padding),\n",
    "                    int(padding):int(-1 * padding)] = image\n",
    "        # print(imagePadded)\n",
    "    else:\n",
    "        imagePadded = image\n",
    "\n",
    "    # Iterate through image\n",
    "    for y in range(image.shape[1]):\n",
    "        # Exit Convolution\n",
    "        if y > image.shape[1] - yKernShape + 2*padding:\n",
    "            break\n",
    "        # Only Convolve if y has gone down by the specified Strides\n",
    "\n",
    "        for x in range(image.shape[0]):\n",
    "            # Go to next row once kernel is out of bounds\n",
    "            if x > image.shape[0] - xKernShape + 2*padding:\n",
    "                break\n",
    "            try:\n",
    "                # Only Convolve if x has moved by the specified Strides\n",
    "                output[x, y] = (\n",
    "                    kernel * imagePadded[x: x + xKernShape, y: y + yKernShape]\n",
    "                ).sum()\n",
    "            except:\n",
    "                break\n",
    "\n",
    "    return output"
   ]
  },
  {
   "cell_type": "markdown",
   "metadata": {},
   "source": [
    "We will convolve matrices of floating point number of different precisions using the same convolve2D function, and observe the performance (time and memory utilization) as well as the accuracy"
   ]
  },
  {
   "cell_type": "code",
   "execution_count": 50,
   "metadata": {},
   "outputs": [
    {
     "name": "stdout",
     "output_type": "stream",
     "text": [
      "[[2.04958789 3.41039223 4.54518665 ... 4.32905918 3.41449438 2.60170782]\n",
      " [3.45478486 4.68496528 5.0672283  ... 5.84994105 5.29594538 3.50738559]\n",
      " [3.51300413 5.18544798 6.75757789 ... 6.1957042  5.83820692 4.08699789]\n",
      " ...\n",
      " [2.60881212 4.02090872 5.66438356 ... 5.76766382 4.17313572 3.54445423]\n",
      " [2.54975953 3.40593299 4.0824965  ... 4.46490092 3.2686343  2.78022096]\n",
      " [2.13601426 2.93598563 3.44640841 ... 3.42150388 2.35377567 1.65036983]]\n",
      "(100, 100)\n"
     ]
    },
    {
     "data": {
      "text/plain": [
       "True"
      ]
     },
     "execution_count": 50,
     "metadata": {},
     "output_type": "execute_result"
    }
   ],
   "source": [
    "A =  np.random.random_sample(size=(100,100))\n",
    "B = np.random.random_sample(size=(5,5))\n",
    "\n",
    "your_result = convolve2D(A, B, padding=2)\n",
    "\n",
    "print(your_result)\n",
    "print(your_result.shape)\n",
    "\n",
    "np.allclose(your_result, convolve2d(A, B, mode=\"same\"))"
   ]
  },
  {
   "cell_type": "code",
   "execution_count": 51,
   "metadata": {},
   "outputs": [
    {
     "data": {
      "text/plain": [
       "<matplotlib.image.AxesImage at 0x7eff0728ba40>"
      ]
     },
     "execution_count": 51,
     "metadata": {},
     "output_type": "execute_result"
    },
    {
     "data": {
      "image/png": "[encoded data removed]",
      "text/plain": [
       "<Figure size 640x480 with 1 Axes>"
      ]
     },
     "metadata": {},
     "output_type": "display_data"
    }
   ],
   "source": [
    "plt.imshow(your_result)"
   ]
  },
  {
   "cell_type": "code",
   "execution_count": 52,
   "metadata": {},
   "outputs": [],
   "source": [
    "def test_conv(datatype):\n",
    "    start_time = time.time()\n",
    "    print(\"--- Testing {} ---\".format(datatype))\n",
    "    for _ in range(5):\n",
    "\n",
    "        A =  np.random.random_sample(size=(1000, 500)).astype(datatype)\n",
    "        B = np.random.random_sample(size=(10,10)).astype(datatype)\n",
    "\n",
    "        your_result = convolve2D(A, B, padding=2)\n",
    "\n",
    "    print(\"--- Done: The execution took %s seconds ---\" %\n",
    "          (time.time() - start_time))"
   ]
  },
  {
   "cell_type": "markdown",
   "metadata": {},
   "source": [
    "In the cell below, we use the function \"memory_usage\" to measure the memory utilization during the execution of the chosen function. At the same time, we record the runtime of each trial."
   ]
  },
  {
   "cell_type": "code",
   "execution_count": 54,
   "metadata": {},
   "outputs": [
    {
     "name": "stdout",
     "output_type": "stream",
     "text": [
      "--- Testing float16 ---\n",
      "--- Done: The execution took 8.06080961227417 seconds ---\n",
      "--- Testing float32 ---\n",
      "--- Done: The execution took 7.640912294387817 seconds ---\n",
      "--- Testing float64 ---\n",
      "--- Done: The execution took 7.213717222213745 seconds ---\n",
      "--- Testing float128 ---\n",
      "--- Done: The execution took 9.498496294021606 seconds ---\n"
     ]
    }
   ],
   "source": [
    "float_types = [\"float16\", \"float32\", \"float64\", \"float128\"]\n",
    "\n",
    "memory_utilization_tracker = []\n",
    "for float_type in float_types:\n",
    "    mem_usage = memory_usage((test_conv, (float_type,), ), timestamps=False, interval=1)\n",
    "    memory_utilization_tracker.append(mem_usage)"
   ]
  },
  {
   "cell_type": "markdown",
   "metadata": {},
   "source": [
    "**Q: What do you notice about the run time among the trials? Does the result match your expectations?**\n",
    "\n",
    "*your answer:*\n",
    "The execution time is f64 < f32 < f16 < f128. It does not match with my expectation since I assumed the execution time is goes up sa the floating bits goes up.\n",
    "\n",
    "It is reasonable that float 128 takes most time since it has most bits\n",
    "\n",
    "One reason that f16 takes longer than 32 and 64 is because float 16 operations is not commonly used as 32 and 64 bits so it is not well developed?\n"
   ]
  },
  {
   "cell_type": "markdown",
   "metadata": {},
   "source": [
    "### Effects of datatypes on 2D convolution results - Memory usage\n",
    "\n",
    "Now let's compare the memory utilization over time using plots:"
   ]
  },
  {
   "cell_type": "code",
   "execution_count": 55,
   "metadata": {},
   "outputs": [
    {
     "data": {
      "image/png": "[encoded data removed]",
      "text/plain": [
       "<Figure size 1000x1000 with 1 Axes>"
      ]
     },
     "metadata": {},
     "output_type": "display_data"
    }
   ],
   "source": [
    "plt.figure(figsize=(10,10))\n",
    "\n",
    "for mem_usage, data_type in zip(memory_utilization_tracker, float_types):\n",
    "    plt.plot(list(range(len(mem_usage))), mem_usage, label=data_type, linewidth=2)\n",
    "    \n",
    "plt.legend()\n",
    "plt.show()    "
   ]
  },
  {
   "cell_type": "markdown",
   "metadata": {},
   "source": [
    "**Q: What do you notice? Can you explain the difference in the memory usage?**"
   ]
  },
  {
   "cell_type": "markdown",
   "metadata": {},
   "source": [
    "*your answer:*"
   ]
  },
  {
   "cell_type": "markdown",
   "metadata": {},
   "source": [
    "### Effects of datatypes on 2D convolution results - Precision of result\n",
    "\n",
    "We gained (low) memory usage and (high) speed when using lower precision (16/32/64 vs. 128), what did we lose? Correctness of the solution.\n",
    "\n",
    "Let's see how different the solutions with different datatypes are:"
   ]
  },
  {
   "cell_type": "code",
   "execution_count": 56,
   "metadata": {},
   "outputs": [],
   "source": [
    "A_128 =  np.random.random_sample(size=(500,500)).astype(\"float128\")\n",
    "B_128 = np.random.random_sample(size=(10,10)).astype(\"float128\")\n",
    "A_64 =  A_128.astype(\"float64\")\n",
    "B_64 = B_128.astype(\"float64\")\n",
    "A_32 =  A_128.astype(\"float32\")\n",
    "B_32 = B_128.astype(\"float32\")\n",
    "A_16 =  A_128.astype(\"float16\")\n",
    "B_16 = B_128.astype(\"float16\")\n",
    "\n",
    "result_128 = convolve2D(A_128, B_128, padding=2)\n",
    "result_64 = convolve2D(A_64, B_64, padding=2)\n",
    "result_32 = convolve2D(A_32, B_32, padding=2)\n",
    "result_16 = convolve2D(A_16, B_16, padding=2)"
   ]
  },
  {
   "cell_type": "markdown",
   "metadata": {},
   "source": [
    "Finally, let's see the cost of the efficiency gain by using lower-precision data types. We will do this by comparing the result of lower-precision datatypes to that of the highest precision datatype."
   ]
  },
  {
   "cell_type": "code",
   "execution_count": 57,
   "metadata": {},
   "outputs": [
    {
     "name": "stdout",
     "output_type": "stream",
     "text": [
      "4.927933616727387e-10\n",
      "0.023184957709833753\n",
      "141.20543694145397\n"
     ]
    }
   ],
   "source": [
    "print((np.abs(result_128 - result_64)).sum())\n",
    "print((np.abs(result_128 - result_32)).sum())\n",
    "print((np.abs(result_128 - result_16)).sum())"
   ]
  },
  {
   "cell_type": "markdown",
   "metadata": {},
   "source": [
    "**Q: What do you notice? Can you explain what you see?**"
   ]
  },
  {
   "cell_type": "markdown",
   "metadata": {},
   "source": [
    "*your answer:*\n"
   ]
  },
  {
   "cell_type": "markdown",
   "metadata": {},
   "source": [
    "---------------\n",
    "# References\n",
    "- https://docs.python.org/3/tutorial/floatingpoint.html\n",
    "- https://diybigdata.net/2016/07/data-science-and-floating-point-arithmetic/\n",
    "- https://www.lahey.com/float.htm\n",
    "- https://numpy.org/doc/stable/user/basics.types.html\n",
    "- https://numpy.org/doc/stable/reference/arrays.scalars.html#integer-types"
   ]
  }
 ],
 "metadata": {
  "interpreter": {
   "hash": "90a948cbea380b723655a2e5bb8f62bc386f4a090480d19b8abbba0f04c678da"
  },
  "kernelspec": {
   "display_name": "Python 3 (ipykernel)",
   "language": "python",
   "name": "python3"
  },
  "language_info": {
   "codemirror_mode": {
    "name": "ipython",
    "version": 3
   },
   "file_extension": ".py",
   "mimetype": "text/x-python",
   "name": "python",
   "nbconvert_exporter": "python",
   "pygments_lexer": "ipython3",
   "version": "3.12.4"
  }
 },
 "nbformat": 4,
 "nbformat_minor": 4
}
